{
 "cells": [
  {
   "cell_type": "code",
   "execution_count": 2,
   "id": "9d021a6a",
   "metadata": {},
   "outputs": [],
   "source": [
    "import pandas as pd\n",
    "\n",
    "df = pd.read_csv('data_processed.csv')"
   ]
  },
  {
   "cell_type": "markdown",
   "id": "293f9a23",
   "metadata": {},
   "source": [
    "我们首先使用多元线性回归（OLS）进行建模，得到 $R^2 \\approx 0.1$，说明线性模型拟合效果较差。随后引入多项式回归与随机森林回归等非线性方法，结果显示 $R^2$ 显著提升，表明 Y 染色体浓度与年龄、孕妇 BMI、检测孕周及末次月经之间存在非线性关系。"
   ]
  },
  {
   "cell_type": "code",
   "execution_count": 3,
   "id": "b8d378aa",
   "metadata": {},
   "outputs": [
    {
     "name": "stdout",
     "output_type": "stream",
     "text": [
      "OLS R²: 0.14671240552091303\n",
      "Polynomial R²: 0.17892760051567702\n",
      "RandomForest R²: 0.43708420921476854\n",
      "SVR R²: 0.10668572515170605\n"
     ]
    }
   ],
   "source": [
    "\n",
    "from sklearn.model_selection import train_test_split\n",
    "from sklearn.linear_model import LinearRegression\n",
    "from sklearn.preprocessing import PolynomialFeatures\n",
    "from sklearn.pipeline import Pipeline\n",
    "from sklearn.ensemble import RandomForestRegressor\n",
    "from sklearn.svm import SVR\n",
    "from sklearn.metrics import r2_score\n",
    "\n",
    "# 假设 df 是你的 DataFrame\n",
    "features = ['年龄', '孕妇BMI', '检测孕周_周数', '末次月经']\n",
    "target = 'Y染色体浓度'\n",
    "\n",
    "X = df[features]\n",
    "y = df[target]\n",
    "\n",
    "X_train, X_test, y_train, y_test = train_test_split(X, y, test_size=0.2, random_state=42)\n",
    "\n",
    "# 1. OLS\n",
    "ols = LinearRegression().fit(X_train, y_train)\n",
    "print(\"OLS R²:\", r2_score(y_test, ols.predict(X_test)))\n",
    "\n",
    "# 2. 多项式回归\n",
    "poly_model = Pipeline([\n",
    "    ('poly', PolynomialFeatures(degree=3, include_bias=False)),\n",
    "    ('linear', LinearRegression())\n",
    "]).fit(X_train, y_train)\n",
    "print(\"Polynomial R²:\", r2_score(y_test, poly_model.predict(X_test)))\n",
    "\n",
    "# 3. 随机森林\n",
    "rf = RandomForestRegressor(n_estimators=200, random_state=42).fit(X_train, y_train)\n",
    "print(\"RandomForest R²:\", r2_score(y_test, rf.predict(X_test)))\n",
    "\n",
    "# 4. SVR\n",
    "svr = SVR(kernel='rbf', C=100, gamma=0.1, epsilon=0.01).fit(X_train, y_train)\n",
    "print(\"SVR R²:\", r2_score(y_test, svr.predict(X_test)))\n"
   ]
  },
  {
   "cell_type": "markdown",
   "id": "6a6092f3",
   "metadata": {},
   "source": [
    "可以看到：\n",
    "\n",
    "随机森林已经明显优于其他模型（R² 提升到 0.437）\n",
    "多项式回归有一点提升，但幅度不大（说明非线性存在，但多项式形式不足以完全捕捉）\n",
    "SVR效果反而下降（可能是参数不适合或数据特征不适合 RBF 核）"
   ]
  },
  {
   "cell_type": "code",
   "execution_count": 8,
   "id": "008b90a9",
   "metadata": {},
   "outputs": [
    {
     "name": "stdout",
     "output_type": "stream",
     "text": [
      "XGBoost R²: 0.4891296107727223\n",
      "XGBoost MAE: 0.4927215567388203\n"
     ]
    }
   ],
   "source": [
    "from xgboost import XGBRegressor\n",
    "from sklearn.metrics import mean_absolute_error\n",
    "xgb = XGBRegressor(\n",
    "    n_estimators=1000,\n",
    "    learning_rate=0.05,\n",
    "    max_depth=5,\n",
    "    subsample=0.6,\n",
    "    colsample_bytree=0.8,\n",
    "    random_state=42\n",
    ")\n",
    "xgb.fit(X_train, y_train)\n",
    "print(\"XGBoost R²:\", r2_score(y_test, xgb.predict(X_test)))\n",
    "\n",
    "\n",
    "print(\"XGBoost MAE:\", mean_absolute_error(y_test, xgb.predict(X_test)))\n",
    "\n"
   ]
  }
 ],
 "metadata": {
  "kernelspec": {
   "display_name": ".venv",
   "language": "python",
   "name": "python3"
  },
  "language_info": {
   "codemirror_mode": {
    "name": "ipython",
    "version": 3
   },
   "file_extension": ".py",
   "mimetype": "text/x-python",
   "name": "python",
   "nbconvert_exporter": "python",
   "pygments_lexer": "ipython3",
   "version": "3.11.12"
  }
 },
 "nbformat": 4,
 "nbformat_minor": 5
}
