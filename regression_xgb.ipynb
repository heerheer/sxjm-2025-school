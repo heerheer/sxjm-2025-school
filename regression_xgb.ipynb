{
 "cells": [
  {
   "cell_type": "code",
   "execution_count": 1,
   "id": "4c20e0cc",
   "metadata": {},
   "outputs": [],
   "source": [
    "import matplotlib.pyplot as plt\n",
    "# 设置中文字体为黑体（SimHei），解决中文乱码\n",
    "plt.rcParams['font.sans-serif'] = ['SimHei']  \n",
    "# 解决负号 '-' 显示为方块的问题\n",
    "plt.rcParams['axes.unicode_minus'] = False"
   ]
  },
  {
   "cell_type": "code",
   "execution_count": null,
   "id": "a06d57e0",
   "metadata": {},
   "outputs": [
    {
     "name": "stdout",
     "output_type": "stream",
     "text": [
      "  Feature  Importance\n",
      "3      f3    0.636502\n",
      "2      f2    0.457520\n",
      "1      f1    0.433113\n",
      "0      f0    0.376988\n"
     ]
    },
    {
     "data": {
      "image/png": "[encoded data removed]",
      "text/plain": [
       "<Figure size 800x600 with 1 Axes>"
      ]
     },
     "metadata": {},
     "output_type": "display_data"
    }
   ],
   "source": [
    "from sklearn.model_selection import train_test_split\n",
    "from xgboost import XGBRegressor\n",
    "import pandas as pd\n",
    "import numpy as np\n",
    "\n",
    "# 使用刚才的数据再次训练尝试\n",
    "\n",
    "# 1. 读取处理后的数据\n",
    "df = pd.read_csv('data_processed_std.csv')\n",
    "\n",
    "\n",
    "# df['孕周_sq'] = df['检测孕周_周数'] ** 2\n",
    "# df['BMI_sq'] = df['孕妇BMI'] ** 2\n",
    "# df['孕周xBMI'] = df['检测孕周_周数'] * df['孕妇BMI']\n",
    "# df['年龄x孕周'] = df['年龄'] * df['检测孕周_周数']\n",
    "\n",
    "# 手动设置 y 和 x 的列\n",
    "y_col = 'Y染色体浓度'\n",
    "# x_cols = ['检测孕周_周数','年龄','孕妇BMI','末次月经','孕周_sq','BMI_sq','孕周xBMI','年龄x孕周']\n",
    "x_cols = ['检测孕周_周数','年龄','孕妇BMI','末次月经']\n",
    "\n",
    "\n",
    "# 根据给定的xy列，分割数据集\n",
    "X = df[x_cols].values\n",
    "y = df[y_col].values\n",
    "\n",
    "# 2. 拆分训练测试\n",
    "X_train, X_test, y_train, y_test = train_test_split(X, y, test_size=0.3, random_state=42)\n",
    "\n",
    "# 3. 使用xgboost\n",
    "\n",
    "# 设置参数\n",
    "param = {'colsample_bytree': 1, 'learning_rate': 0.05, 'max_depth': 5, 'n_estimators': 500, 'subsample': 0.8}\n",
    "\n",
    "xgb = XGBRegressor(**param)\n",
    "\n",
    "xgb.fit(X_train, y_train)\n",
    "# 获取特征重要性（按 gain 排序）\n",
    "importance_dict = xgb.get_booster().get_score(importance_type='gain')\n",
    "importance_df = pd.DataFrame({\n",
    "    'Feature': list(importance_dict.keys()),\n",
    "    'Importance': list(importance_dict.values())\n",
    "}).sort_values(by='Importance', ascending=False)\n",
    "print(importance_df)\n",
    "# 可视化\n",
    "plt.figure(figsize=(8,6))\n",
    "plt.barh(importance_df['Feature'], importance_df['Importance'])\n",
    "plt.gca().invert_yaxis()\n",
    "plt.xlabel(\"Gain Importance\")\n",
    "plt.title(\"XGBoost Feature Importance (Gain)\")\n",
    "plt.show()\n"
   ]
  },
  {
   "cell_type": "code",
   "execution_count": 24,
   "id": "559e6a6d",
   "metadata": {},
   "outputs": [
    {
     "name": "stdout",
     "output_type": "stream",
     "text": [
      "r2_score: 0.45137125993364346\n",
      "MAE: 0.5129233489804375\n"
     ]
    }
   ],
   "source": [
    "from sklearn.metrics import r2_score\n",
    "from sklearn.metrics import mean_absolute_error\n",
    "y_pred = xgb.predict(X_test)\n",
    "# 计算r2_score\n",
    "_r2_score = r2_score(y_test, y_pred)\n",
    "print('r2_score:', _r2_score)\n",
    "\n",
    "# 计算MAE\n",
    "mae = mean_absolute_error(y_test, y_pred)\n",
    "print('MAE:', mae)\n",
    "\n"
   ]
  },
  {
   "cell_type": "code",
   "execution_count": 25,
   "id": "1cf5008c",
   "metadata": {},
   "outputs": [
    {
     "name": "stdout",
     "output_type": "stream",
     "text": [
      "训练集的R2得分: 0.9675871709522598\n"
     ]
    }
   ],
   "source": [
    "# 分析xgboost对于训练集的效果\n",
    "y_train_pred = xgb.predict(X_train)\n",
    "print(\"训练集的R2得分:\", r2_score(y_train, y_train_pred))\n"
   ]
  }
 ],
 "metadata": {
  "kernelspec": {
   "display_name": ".venv",
   "language": "python",
   "name": "python3"
  },
  "language_info": {
   "codemirror_mode": {
    "name": "ipython",
    "version": 3
   },
   "file_extension": ".py",
   "mimetype": "text/x-python",
   "name": "python",
   "nbconvert_exporter": "python",
   "pygments_lexer": "ipython3",
   "version": "3.11.12"
  }
 },
 "nbformat": 4,
 "nbformat_minor": 5
}
