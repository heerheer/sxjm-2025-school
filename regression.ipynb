{
 "cells": [
  {
   "cell_type": "code",
   "execution_count": 4,
   "id": "24096e76",
   "metadata": {},
   "outputs": [
    {
     "name": "stdout",
     "output_type": "stream",
     "text": [
      "                            OLS Regression Results                            \n",
      "==============================================================================\n",
      "Dep. Variable:                 Y染色体浓度   R-squared:                       0.047\n",
      "Model:                            OLS   Adj. R-squared:                  0.044\n",
      "Method:                 Least Squares   F-statistic:                     15.30\n",
      "Date:                Fri, 05 Sep 2025   Prob (F-statistic):           9.99e-10\n",
      "Time:                        11:32:53   Log-Likelihood:                -1234.2\n",
      "No. Observations:                 938   AIC:                             2476.\n",
      "Df Residuals:                     934   BIC:                             2496.\n",
      "Df Model:                           3                                         \n",
      "Covariance Type:            nonrobust                                         \n",
      "==============================================================================\n",
      "                 coef    std err          t      P>|t|      [0.025      0.975]\n",
      "------------------------------------------------------------------------------\n",
      "const          0.0285      0.030      0.965      0.335      -0.030       0.087\n",
      "年龄            -0.0928      0.029     -3.154      0.002      -0.151      -0.035\n",
      "孕妇BMI         -0.1864      0.034     -5.498      0.000      -0.253      -0.120\n",
      "检测孕周_周数        0.1053      0.033      3.213      0.001       0.041       0.170\n",
      "==============================================================================\n",
      "Omnibus:                       26.134   Durbin-Watson:                   0.903\n",
      "Prob(Omnibus):                  0.000   Jarque-Bera (JB):               20.919\n",
      "Skew:                           0.282   Prob(JB):                     2.87e-05\n",
      "Kurtosis:                       2.535   Cond. No.                         1.24\n",
      "==============================================================================\n",
      "\n",
      "Notes:\n",
      "[1] Standard Errors assume that the covariance matrix of the errors is correctly specified.\n",
      "\n",
      "显著性变量（p < 0.05）：\n",
      "['年龄', '孕妇BMI', '检测孕周_周数']\n",
      "\n",
      "回归结果已保存到 regression_results.csv\n"
     ]
    }
   ],
   "source": [
    "import pandas as pd\n",
    "import statsmodels.api as sm\n",
    "\n",
    "# 1. 读取处理后的数据\n",
    "df = pd.read_csv('data_processed.csv')\n",
    "\n",
    "# 2. 设置因变量（目标变量）\n",
    "target_col = 'Y染色体浓度'  # 你可以改成其他目标变量\n",
    "\n",
    "# 3. 选择数值型自变量（排除目标列）\n",
    "numeric_cols = ['年龄', '孕妇BMI', '检测孕周_周数']\n",
    "\n",
    "# 4. 定义 X 和 y\n",
    "X = df[numeric_cols]\n",
    "y = df[target_col]\n",
    "\n",
    "# 5. 添加常数项（截距）\n",
    "X = sm.add_constant(X)\n",
    "\n",
    "# 6. 建立 OLS 回归模型\n",
    "model = sm.OLS(y, X).fit()\n",
    "\n",
    "# 7. 输出回归结果\n",
    "print(model.summary())\n",
    "\n",
    "# 8. 提取显著性变量（p < 0.05）\n",
    "p_values = model.pvalues\n",
    "significant_vars = p_values[p_values < 0.05].index.tolist()\n",
    "\n",
    "# 去掉常数项\n",
    "if 'const' in significant_vars:\n",
    "    significant_vars.remove('const')\n",
    "\n",
    "print(\"\\n显著性变量（p < 0.05）：\")\n",
    "print(significant_vars)\n",
    "\n",
    "# 9. 保存回归结果到文件\n",
    "summary_df = pd.DataFrame({\n",
    "    '变量': model.params.index,\n",
    "    '系数': model.params.values,\n",
    "    'p值': model.pvalues.values,\n",
    "    '显著性': ['显著' if p < 0.05 else '不显著' for p in model.pvalues.values]\n",
    "})\n",
    "summary_df.to_csv('regression_results.csv', index=False, encoding='utf-8-sig')\n",
    "\n",
    "print(\"\\n回归结果已保存到 regression_results.csv\")\n"
   ]
  },
  {
   "cell_type": "markdown",
   "id": "d475ceed",
   "metadata": {},
   "source": [
    "## 第二次分析:\n",
    "\n",
    "这种现象在实际数据分析中很常见，原因可能有：\n",
    "\n",
    "多重共线性（Multicollinearity）\n",
    "\n",
    "BMI 和其他变量（如身高、体重）高度相关\n",
    "在 OLS 中，如果自变量之间高度相关，系数估计会不稳定，p 值会变大\n",
    "可能 BMI 的信息已经被“身高+体重”解释掉了\n",
    "模型设定不当\n",
    "\n",
    "OLS 假设是线性关系，但 BMI 和因变量可能是非线性关系\n",
    "如果真实关系是曲线型，线性模型会低估它的显著性\n",
    "噪声和样本量\n",
    "\n",
    "样本量不足或噪声较大，也会导致 p 值偏大\n",
    "多重比较问题\n",
    "\n",
    "你有很多变量（>20 个），在多次显著性检验中，必然会有一些变量 p 值不显著，即使它们在实际中有影响\n"
   ]
  },
  {
   "cell_type": "markdown",
   "id": "f7fa8ccb",
   "metadata": {},
   "source": [
    "### 方差膨胀因子（VIF）:"
   ]
  },
  {
   "cell_type": "code",
   "execution_count": 9,
   "id": "89d59258",
   "metadata": {},
   "outputs": [
    {
     "name": "stdout",
     "output_type": "stream",
     "text": [
      "         feature            VIF\n",
      "0          const  252425.921793\n",
      "1             年龄       1.125899\n",
      "2             身高     148.599371\n",
      "3             体重     408.539086\n",
      "4           末次月经      73.733558\n",
      "5          IVF妊娠       1.060238\n",
      "6           检测日期      85.476486\n",
      "7         检测抽血次数       2.568300\n",
      "8          孕妇BMI     236.741013\n",
      "9          原始读段数       1.461448\n",
      "10  在参考基因组上比对的比例       1.064944\n",
      "11       重复读段的比例       1.102555\n",
      "12      唯一比对的读段数       1.468183\n",
      "13          GC含量       1.696878\n",
      "14     13号染色体的Z值       1.303527\n",
      "15     18号染色体的Z值       1.406597\n",
      "16     21号染色体的Z值       1.070954\n",
      "17       X染色体的Z值       2.051902\n",
      "18       Y染色体的Z值       1.757459\n",
      "19        X染色体浓度       1.290843\n",
      "20   13号染色体的GC含量       1.772619\n",
      "21   18号染色体的GC含量       1.667991\n",
      "22   21号染色体的GC含量       1.619536\n",
      "23    被过滤掉读段数的比例       1.141593\n",
      "24          怀孕次数       1.789669\n",
      "25          生产次数       1.742485\n",
      "26        胎儿是否健康       1.127160\n",
      "27       检测孕周_周数       5.116699\n"
     ]
    }
   ],
   "source": [
    "from statsmodels.stats.outliers_influence import variance_inflation_factor\n",
    "import pandas as pd\n",
    "\n",
    "import pandas as pd\n",
    "import statsmodels.api as sm\n",
    "\n",
    "# 1. 读取处理后的数据\n",
    "df = pd.read_csv('data_processed.csv')\n",
    "\n",
    "X = df.drop(columns=['Y染色体浓度'])  # 自变量\n",
    "X = sm.add_constant(X)\n",
    "vif_data = pd.DataFrame()\n",
    "vif_data[\"feature\"] = X.columns\n",
    "vif_data[\"VIF\"] = [variance_inflation_factor(X.values, i) for i in range(X.shape[1])]\n",
    "print(vif_data)"
   ]
  },
  {
   "cell_type": "markdown",
   "id": "66e07600",
   "metadata": {},
   "source": [
    "### LassoCV"
   ]
  },
  {
   "cell_type": "code",
   "execution_count": null,
   "id": "67e571c7",
   "metadata": {},
   "outputs": [
    {
     "name": "stdout",
     "output_type": "stream",
     "text": [
      "const           0.000000e+00\n",
      "年龄             -0.000000e+00\n",
      "身高             -0.000000e+00\n",
      "体重             -0.000000e+00\n",
      "末次月经           -8.627704e-10\n",
      "IVF妊娠           0.000000e+00\n",
      "检测日期            0.000000e+00\n",
      "检测抽血次数          0.000000e+00\n",
      "孕妇BMI          -0.000000e+00\n",
      "原始读段数          -0.000000e+00\n",
      "在参考基因组上比对的比例   -0.000000e+00\n",
      "重复读段的比例         0.000000e+00\n",
      "唯一比对的读段数       -0.000000e+00\n",
      "GC含量           -0.000000e+00\n",
      "13号染色体的Z值      -0.000000e+00\n",
      "18号染色体的Z值      -0.000000e+00\n",
      "21号染色体的Z值       0.000000e+00\n",
      "X染色体的Z值        -0.000000e+00\n",
      "Y染色体的Z值         0.000000e+00\n",
      "X染色体浓度          0.000000e+00\n",
      "13号染色体的GC含量    -0.000000e+00\n",
      "18号染色体的GC含量    -0.000000e+00\n",
      "21号染色体的GC含量    -0.000000e+00\n",
      "被过滤掉读段数的比例      0.000000e+00\n",
      "怀孕次数           -0.000000e+00\n",
      "生产次数            0.000000e+00\n",
      "胎儿是否健康          0.000000e+00\n",
      "检测孕周_周数         0.000000e+00\n",
      "dtype: float64\n"
     ]
    }
   ],
   "source": [
    "from sklearn.linear_model import LassoCV\n",
    "model = LassoCV(cv=5).fit(X, y)\n",
    "coef = pd.Series(model.coef_, index=X.columns)\n",
    "print(coef)\n"
   ]
  },
  {
   "cell_type": "markdown",
   "id": "3cea7384",
   "metadata": {},
   "source": [
    "### 用 随机森林 计算特征重要性"
   ]
  },
  {
   "cell_type": "code",
   "execution_count": 25,
   "id": "02575238",
   "metadata": {},
   "outputs": [
    {
     "name": "stdout",
     "output_type": "stream",
     "text": [
      "X染色体浓度          0.322120\n",
      "检测日期            0.129149\n",
      "Y染色体的Z值         0.075713\n",
      "检测抽血次数          0.070651\n",
      "检测孕周_周数         0.068856\n",
      "孕妇BMI           0.050454\n",
      "X染色体的Z值         0.037723\n",
      "末次月经            0.024920\n",
      "被过滤掉读段数的比例      0.024850\n",
      "18号染色体的Z值       0.020842\n",
      "在参考基因组上比对的比例    0.019056\n",
      "GC含量            0.016015\n",
      "13号染色体的GC含量     0.015601\n",
      "21号染色体的GC含量     0.015131\n",
      "唯一比对的读段数        0.015127\n",
      "重复读段的比例         0.014959\n",
      "21号染色体的Z值       0.014843\n",
      "13号染色体的Z值       0.014217\n",
      "18号染色体的GC含量     0.014034\n",
      "年龄              0.013128\n",
      "原始读段数           0.012927\n",
      "生产次数            0.003989\n",
      "怀孕次数            0.003784\n",
      "胎儿是否健康          0.001611\n",
      "IVF妊娠           0.000300\n",
      "dtype: float64\n"
     ]
    }
   ],
   "source": [
    "from sklearn.ensemble import RandomForestRegressor\n",
    "rf = RandomForestRegressor()\n",
    "X = X.drop(['const'], axis=1)\n",
    "rf.fit(X, y)\n",
    "importance = pd.Series(rf.feature_importances_, index=X.columns)\n",
    "print(importance.sort_values(ascending=False))"
   ]
  },
  {
   "cell_type": "markdown",
   "id": "49038ea4",
   "metadata": {},
   "source": [
    "这边可以看到，以0.01作为判别，我们可以取出下面的变量"
   ]
  },
  {
   "cell_type": "code",
   "execution_count": null,
   "id": "c4163932",
   "metadata": {},
   "outputs": [
    {
     "data": {
      "text/plain": [
       "Index(['X染色体浓度', '检测日期', 'Y染色体的Z值', '检测孕周_周数', '检测抽血次数', '孕妇BMI', 'X染色体的Z值',\n",
       "       '末次月经', '被过滤掉读段数的比例', '18号染色体的Z值', '在参考基因组上比对的比例', '13号染色体的Z值',\n",
       "       '21号染色体的GC含量', '13号染色体的GC含量', '21号染色体的Z值', 'GC含量', '重复读段的比例', '原始读段数',\n",
       "       '唯一比对的读段数', '18号染色体的GC含量', '年龄'],\n",
       "      dtype='object')"
      ]
     },
     "execution_count": 19,
     "metadata": {},
     "output_type": "execute_result"
    }
   ],
   "source": [
    "# 取出importance.sort_values(ascending=False)中大于0.01的\n",
    "filtered_importance = importance.sort_values(ascending=False)[importance > 0.01]\n",
    "filtered_importance.keys()"
   ]
  }
 ],
 "metadata": {
  "kernelspec": {
   "display_name": ".venv",
   "language": "python",
   "name": "python3"
  },
  "language_info": {
   "codemirror_mode": {
    "name": "ipython",
    "version": 3
   },
   "file_extension": ".py",
   "mimetype": "text/x-python",
   "name": "python",
   "nbconvert_exporter": "python",
   "pygments_lexer": "ipython3",
   "version": "3.11.12"
  }
 },
 "nbformat": 4,
 "nbformat_minor": 5
}
