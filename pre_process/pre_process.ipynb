{
 "cells": [
  {
   "cell_type": "code",
   "execution_count": 44,
   "id": "1de02591",
   "metadata": {},
   "outputs": [
    {
     "name": "stdout",
     "output_type": "stream",
     "text": [
      "数据清洗完成，已保存为 data_cleaned.xlsx\n"
     ]
    }
   ],
   "source": [
    "import pandas as pd\n",
    "import numpy as np\n",
    "import re\n",
    "\n",
    "sex = 'female'\n",
    " \n",
    "# 读取数据\n",
    "df = pd.read_excel('data.xlsx',sheet_name='男胎检测数据' if sex == 'male' else '女胎检测数据')\n",
    "\n",
    "\n",
    "# 去除所有列的空值列\n",
    "df.dropna(axis=1, how='all', inplace=True)\n",
    "\n",
    "\n",
    "\n",
    "# 1. 末次月经：转为日期类型\n",
    "df['末次月经'] = pd.to_datetime(df['末次月经'], errors='coerce')\n",
    "\n",
    "\n",
    "# 3. 检测孕周：12w+3 → 浮点型孕周\n",
    "def parse_gestational_age(ga_str):\n",
    "    if pd.isnull(ga_str):\n",
    "        return np.nan\n",
    "    match = re.match(r'(\\d+)w\\+(\\d+)', str(ga_str))\n",
    "    if match:\n",
    "        weeks = int(match.group(1))\n",
    "        days = int(match.group(2))\n",
    "        return weeks  + days /7\n",
    "    match = re.match(r'(\\d+)w', str(ga_str))\n",
    "    if match:\n",
    "        weeks = int(match.group(1))\n",
    "        return weeks\n",
    "    else:\n",
    "        return np.nan\n",
    "\n",
    "df['检测孕周_周数'] = df['检测孕周'].apply(parse_gestational_age)\n",
    "\n",
    "# 4. 染色体的非整倍体：保留原文本（可为空）\n",
    "# 无需处理，缺失值保留\n",
    "\n",
    "# 5. 怀孕次数：>=3 → 3\n",
    "def parse_pregnancy_count(val):\n",
    "    if pd.isnull(val):\n",
    "        return 3\n",
    "    if str(val).strip() == '>=3':\n",
    "        return 3\n",
    "    try:\n",
    "        return int(val)\n",
    "    except:\n",
    "        return 3\n",
    "\n",
    "df['怀孕次数'] = df['怀孕次数'].apply(parse_pregnancy_count)\n",
    "\n",
    "# 6. 胎儿是否健康：是/否 → 1/0\n",
    "df['胎儿是否健康'] = df['胎儿是否健康'].map({'是': 1, '否': 0})\n",
    "\n",
    "\n",
    "# 删除末次月经列为空的\n",
    "df = df.dropna(subset=['末次月经'])\n",
    "\n",
    "\n",
    "# 末次月经数据是YYYY-MM-DD,直接转为时间戳\n",
    "df['末次月经'] = df['末次月经'].astype(np.int64) // 10**9\n",
    "\n",
    "\n",
    "# 检测日期格式是YYYYMMDD，转为时间戳\n",
    "df['检测日期'] = pd.to_datetime(df['检测日期'], format='%Y%m%d').astype(np.int64) // 10**9\n",
    "\n",
    "\n",
    "# 将 染色体的非整倍体 列的空值转为0，并保留列\n",
    "df['染色体的非整倍体'] = df['染色体的非整倍体'].fillna(0)\n",
    "\n",
    "\n",
    "# IVF妊娠列包含自然和人工，将自然受孕对应为0，人工授精对应为1\n",
    "df['IVF妊娠'] = df['IVF妊娠'].map({'自然受孕': 0, 'IUI（人工授精）': 1,'IVF（试管婴儿）': 2})\n",
    "\n",
    "\n",
    "# 去除列名多余的空格\n",
    "df.rename(columns={c: c.strip() for c in df.columns}, inplace=True)\n",
    "\n",
    "\n",
    "# 输出清洗后的数据\n",
    "df.to_csv('data_cleaned.csv', index=False)\n",
    "\n",
    "print(\"数据清洗完成，已保存为 data_cleaned.xlsx\")\n"
   ]
  },
  {
   "cell_type": "code",
   "execution_count": 45,
   "id": "ca2cd05d",
   "metadata": {},
   "outputs": [
    {
     "data": {
      "text/plain": [
       "0        0\n",
       "1        0\n",
       "2        0\n",
       "3        0\n",
       "4        0\n",
       "      ... \n",
       "600    T18\n",
       "601      0\n",
       "602      0\n",
       "603      0\n",
       "604      0\n",
       "Name: 染色体的非整倍体, Length: 597, dtype: object"
      ]
     },
     "execution_count": 45,
     "metadata": {},
     "output_type": "execute_result"
    }
   ],
   "source": [
    "df['染色体的非整倍体']"
   ]
  },
  {
   "cell_type": "markdown",
   "id": "7a3a6dfb",
   "metadata": {},
   "source": [
    "还要合并部分..."
   ]
  },
  {
   "cell_type": "code",
   "execution_count": 46,
   "id": "f4c09f32",
   "metadata": {},
   "outputs": [],
   "source": [
    "df = pd.read_csv('data_cleaned.csv')\n",
    "\n",
    "# 选数值列并生成 agg 字典\n",
    "num_cols = df.select_dtypes(include='number').columns\n",
    "agg_dict = {c:'mean' for c in num_cols if c not in ['染色体的非整倍体']}\n",
    "df_clean = df.groupby(['孕妇代码','检测抽血次数'], as_index=False) \\\n",
    "             .agg({**agg_dict, '染色体的非整倍体':'first'})\n",
    "df_clean.to_csv('data_cleaned.csv', index=False)"
   ]
  },
  {
   "cell_type": "code",
   "execution_count": 47,
   "id": "7366ea84",
   "metadata": {},
   "outputs": [
    {
     "data": {
      "text/plain": [
       "0        0\n",
       "1        0\n",
       "2        0\n",
       "3        0\n",
       "4        0\n",
       "      ... \n",
       "541    T18\n",
       "542      0\n",
       "543      0\n",
       "544      0\n",
       "545      0\n",
       "Name: 染色体的非整倍体, Length: 546, dtype: object"
      ]
     },
     "execution_count": 47,
     "metadata": {},
     "output_type": "execute_result"
    }
   ],
   "source": [
    "df_clean['染色体的非整倍体']"
   ]
  },
  {
   "cell_type": "code",
   "execution_count": 48,
   "id": "65f0e5e6",
   "metadata": {},
   "outputs": [],
   "source": [
    "import seaborn as sns\n",
    "import matplotlib.pyplot as plt\n",
    "\n",
    "# 设置中文字体为黑体（SimHei），解决中文乱码\n",
    "plt.rcParams['font.sans-serif'] = ['SimHei']  \n",
    "# 解决负号 '-' 显示为方块的问题\n",
    "plt.rcParams['axes.unicode_minus'] = False\n",
    "\n",
    "# 1. 读取数据\n",
    "df = pd.read_csv('data_cleaned.csv')\n",
    "\n",
    "# 2. 只保留关键列非空（Y染色体浓度）\n",
    "df_sex = df[df['Y染色体浓度' if sex == 'male' else 'X染色体浓度'].notnull()]\n",
    "\n",
    "# 3. 只保留数值型列\n",
    "numeric_df = df_sex.select_dtypes(include=['float64', 'int64'])\n",
    "\n",
    "numeric_df = numeric_df.drop(['序号'], axis=1)\n",
    "\n",
    "\n",
    "# 保存各个特征的mean和标准差到feature_mean_std.csv\n",
    "feature_mean = numeric_df.mean()\n",
    "feature_std = numeric_df.std()\n",
    "feature_mean_std = pd.DataFrame({'特征名': numeric_df.columns,\n",
    "                                 '均值': feature_mean,\n",
    "                                 '标准差': feature_std})\n",
    "feature_mean_std.to_csv('feature_mean_std_'+sex+'.csv', index=False)\n",
    "\n",
    "\n",
    "# 4. 缺失值填充（这里用列的中位数填充，你也可以改成均值或0）\n",
    "numeric_df_filled = numeric_df.apply(lambda col: col.fillna(col.median()))\n",
    "\n",
    "excluded_cols = ['孕妇代码','孕妇BMI','IVF妊娠', '怀孕次数', '生产次数', '胎儿是否健康',\"Y染色体浓度\",'X染色体浓度','染色体的非整倍体']\n",
    "\n",
    "\n",
    "merged = pd.concat([df_sex['孕妇代码'],df_sex['染色体的非整倍体'], numeric_df_filled], axis=1)\n",
    "\n",
    "\n",
    "# 5. 3σ准则剔除异常值（按列处理）\n",
    "def three_sigma_filter(df, \n",
    "                       excluded_cols=excluded_cols):\n",
    "    df_filtered = df.copy()\n",
    "    for col in df_filtered.columns:\n",
    "        if col in excluded_cols:\n",
    "            continue\n",
    "        mean = df_filtered[col].mean()\n",
    "        std = df_filtered[col].std()\n",
    "        mask = (df_filtered[col] >= mean - 3*std) & (df_filtered[col] <= mean + 3*std)\n",
    "        df_filtered = df_filtered[mask]\n",
    "    return df_filtered\n",
    "merged = three_sigma_filter(merged)\n",
    "\n",
    "\n",
    "merged.to_csv('data_processed_'+sex+'.csv', index=False)\n",
    "\n",
    "\n",
    "# 标准化numeric_df\n",
    "# 不标准化部分列\n",
    "std_cols = [col for col in merged.columns if col not in excluded_cols]\n",
    "\n",
    "# 标准化部分列\n",
    "merged[std_cols] = (merged[std_cols] - merged[std_cols].mean()) / merged[std_cols].std()\n",
    "\n",
    "\n",
    "# 保存为data_processed.csv\n",
    "merged.to_csv('data_processed_'+sex+'_std.csv', index=False)\n",
    "\n",
    "\n"
   ]
  },
  {
   "cell_type": "code",
   "execution_count": 49,
   "id": "9e434259",
   "metadata": {},
   "outputs": [
    {
     "ename": "KeyError",
     "evalue": "'Y染色体浓度'",
     "output_type": "error",
     "traceback": [
      "\u001b[1;31m---------------------------------------------------------------------------\u001b[0m",
      "\u001b[1;31mKeyError\u001b[0m                                  Traceback (most recent call last)",
      "File \u001b[1;32ms:\\academic_codes\\sxjm-2025-school\\.venv\\lib\\site-packages\\pandas\\core\\indexes\\base.py:3812\u001b[0m, in \u001b[0;36mIndex.get_loc\u001b[1;34m(self, key)\u001b[0m\n\u001b[0;32m   3811\u001b[0m \u001b[38;5;28;01mtry\u001b[39;00m:\n\u001b[1;32m-> 3812\u001b[0m     \u001b[38;5;28;01mreturn\u001b[39;00m \u001b[38;5;28;43mself\u001b[39;49m\u001b[38;5;241;43m.\u001b[39;49m\u001b[43m_engine\u001b[49m\u001b[38;5;241;43m.\u001b[39;49m\u001b[43mget_loc\u001b[49m\u001b[43m(\u001b[49m\u001b[43mcasted_key\u001b[49m\u001b[43m)\u001b[49m\n\u001b[0;32m   3813\u001b[0m \u001b[38;5;28;01mexcept\u001b[39;00m \u001b[38;5;167;01mKeyError\u001b[39;00m \u001b[38;5;28;01mas\u001b[39;00m err:\n",
      "File \u001b[1;32mpandas/_libs/index.pyx:167\u001b[0m, in \u001b[0;36mpandas._libs.index.IndexEngine.get_loc\u001b[1;34m()\u001b[0m\n",
      "File \u001b[1;32mpandas/_libs/index.pyx:196\u001b[0m, in \u001b[0;36mpandas._libs.index.IndexEngine.get_loc\u001b[1;34m()\u001b[0m\n",
      "File \u001b[1;32mpandas/_libs/hashtable_class_helper.pxi:7088\u001b[0m, in \u001b[0;36mpandas._libs.hashtable.PyObjectHashTable.get_item\u001b[1;34m()\u001b[0m\n",
      "File \u001b[1;32mpandas/_libs/hashtable_class_helper.pxi:7096\u001b[0m, in \u001b[0;36mpandas._libs.hashtable.PyObjectHashTable.get_item\u001b[1;34m()\u001b[0m\n",
      "\u001b[1;31mKeyError\u001b[0m: 'Y染色体浓度'",
      "\nThe above exception was the direct cause of the following exception:\n",
      "\u001b[1;31mKeyError\u001b[0m                                  Traceback (most recent call last)",
      "Cell \u001b[1;32mIn[49], line 5\u001b[0m\n\u001b[0;32m      2\u001b[0m corr_matrix \u001b[38;5;241m=\u001b[39m numeric_df_filled\u001b[38;5;241m.\u001b[39mcorr(method\u001b[38;5;241m=\u001b[39m\u001b[38;5;124m'\u001b[39m\u001b[38;5;124mpearson\u001b[39m\u001b[38;5;124m'\u001b[39m)\n\u001b[0;32m      4\u001b[0m \u001b[38;5;66;03m# 7. 提取与 Y染色体浓度 的相关性\u001b[39;00m\n\u001b[1;32m----> 5\u001b[0m target_corr \u001b[38;5;241m=\u001b[39m \u001b[43mcorr_matrix\u001b[49m\u001b[43m[\u001b[49m\u001b[38;5;124;43m'\u001b[39;49m\u001b[38;5;124;43mY染色体浓度\u001b[39;49m\u001b[38;5;124;43m'\u001b[39;49m\u001b[43m]\u001b[49m\u001b[38;5;241m.\u001b[39msort_values(key\u001b[38;5;241m=\u001b[39m\u001b[38;5;28mabs\u001b[39m, ascending\u001b[38;5;241m=\u001b[39m\u001b[38;5;28;01mFalse\u001b[39;00m)\n\u001b[0;32m      7\u001b[0m \u001b[38;5;66;03m# 排序后输出\u001b[39;00m\n\u001b[0;32m      8\u001b[0m target_corr \u001b[38;5;241m=\u001b[39m target_corr\u001b[38;5;241m.\u001b[39msort_values(key\u001b[38;5;241m=\u001b[39m\u001b[38;5;28mabs\u001b[39m, ascending\u001b[38;5;241m=\u001b[39m\u001b[38;5;28;01mFalse\u001b[39;00m)\n",
      "File \u001b[1;32ms:\\academic_codes\\sxjm-2025-school\\.venv\\lib\\site-packages\\pandas\\core\\frame.py:4107\u001b[0m, in \u001b[0;36mDataFrame.__getitem__\u001b[1;34m(self, key)\u001b[0m\n\u001b[0;32m   4105\u001b[0m \u001b[38;5;28;01mif\u001b[39;00m \u001b[38;5;28mself\u001b[39m\u001b[38;5;241m.\u001b[39mcolumns\u001b[38;5;241m.\u001b[39mnlevels \u001b[38;5;241m>\u001b[39m \u001b[38;5;241m1\u001b[39m:\n\u001b[0;32m   4106\u001b[0m     \u001b[38;5;28;01mreturn\u001b[39;00m \u001b[38;5;28mself\u001b[39m\u001b[38;5;241m.\u001b[39m_getitem_multilevel(key)\n\u001b[1;32m-> 4107\u001b[0m indexer \u001b[38;5;241m=\u001b[39m \u001b[38;5;28;43mself\u001b[39;49m\u001b[38;5;241;43m.\u001b[39;49m\u001b[43mcolumns\u001b[49m\u001b[38;5;241;43m.\u001b[39;49m\u001b[43mget_loc\u001b[49m\u001b[43m(\u001b[49m\u001b[43mkey\u001b[49m\u001b[43m)\u001b[49m\n\u001b[0;32m   4108\u001b[0m \u001b[38;5;28;01mif\u001b[39;00m is_integer(indexer):\n\u001b[0;32m   4109\u001b[0m     indexer \u001b[38;5;241m=\u001b[39m [indexer]\n",
      "File \u001b[1;32ms:\\academic_codes\\sxjm-2025-school\\.venv\\lib\\site-packages\\pandas\\core\\indexes\\base.py:3819\u001b[0m, in \u001b[0;36mIndex.get_loc\u001b[1;34m(self, key)\u001b[0m\n\u001b[0;32m   3814\u001b[0m     \u001b[38;5;28;01mif\u001b[39;00m \u001b[38;5;28misinstance\u001b[39m(casted_key, \u001b[38;5;28mslice\u001b[39m) \u001b[38;5;129;01mor\u001b[39;00m (\n\u001b[0;32m   3815\u001b[0m         \u001b[38;5;28misinstance\u001b[39m(casted_key, abc\u001b[38;5;241m.\u001b[39mIterable)\n\u001b[0;32m   3816\u001b[0m         \u001b[38;5;129;01mand\u001b[39;00m \u001b[38;5;28many\u001b[39m(\u001b[38;5;28misinstance\u001b[39m(x, \u001b[38;5;28mslice\u001b[39m) \u001b[38;5;28;01mfor\u001b[39;00m x \u001b[38;5;129;01min\u001b[39;00m casted_key)\n\u001b[0;32m   3817\u001b[0m     ):\n\u001b[0;32m   3818\u001b[0m         \u001b[38;5;28;01mraise\u001b[39;00m InvalidIndexError(key)\n\u001b[1;32m-> 3819\u001b[0m     \u001b[38;5;28;01mraise\u001b[39;00m \u001b[38;5;167;01mKeyError\u001b[39;00m(key) \u001b[38;5;28;01mfrom\u001b[39;00m\u001b[38;5;250m \u001b[39m\u001b[38;5;21;01merr\u001b[39;00m\n\u001b[0;32m   3820\u001b[0m \u001b[38;5;28;01mexcept\u001b[39;00m \u001b[38;5;167;01mTypeError\u001b[39;00m:\n\u001b[0;32m   3821\u001b[0m     \u001b[38;5;66;03m# If we have a listlike key, _check_indexing_error will raise\u001b[39;00m\n\u001b[0;32m   3822\u001b[0m     \u001b[38;5;66;03m#  InvalidIndexError. Otherwise we fall through and re-raise\u001b[39;00m\n\u001b[0;32m   3823\u001b[0m     \u001b[38;5;66;03m#  the TypeError.\u001b[39;00m\n\u001b[0;32m   3824\u001b[0m     \u001b[38;5;28mself\u001b[39m\u001b[38;5;241m.\u001b[39m_check_indexing_error(key)\n",
      "\u001b[1;31mKeyError\u001b[0m: 'Y染色体浓度'"
     ]
    }
   ],
   "source": [
    "# 6. 计算相关系数矩阵（pairwise 方式，自动忽略缺失值）\n",
    "corr_matrix = numeric_df_filled.corr(method='pearson')\n",
    "\n",
    "# 7. 提取与 Y染色体浓度 的相关性\n",
    "target_corr = corr_matrix['Y染色体浓度'].sort_values(key=abs, ascending=False)\n",
    "\n",
    "# 排序后输出\n",
    "target_corr = target_corr.sort_values(key=abs, ascending=False)\n",
    "print(\"与 Y染色体浓度 的相关性（清洗+填充后）：\")\n",
    "print(target_corr)\n",
    "\n",
    "# 8. 可视化热力图（前15个相关性最高的变量）\n",
    "top_vars = target_corr.index[:15]\n",
    "plt.figure(figsize=(10, 8))\n",
    "sns.heatmap(corr_matrix.loc[top_vars, top_vars], annot=True, cmap='coolwarm', fmt=\".2f\")\n",
    "plt.title('Top Related Variables with Y染色体浓度 (Cleaned & Filled Data)')\n",
    "plt.show()\n",
    "\n",
    "# 9. 根据阈值筛选变量（绝对相关性 > 0.2）\n",
    "threshold = 0.2\n",
    "selected_vars = target_corr[abs(target_corr) > threshold].index.tolist()\n",
    "selected_vars = [v for v in selected_vars if v != 'Y染色体浓度']\n",
    "\n",
    "print(f\"筛选出的自变量（相关性 > {threshold}）：\")\n",
    "print(selected_vars)"
   ]
  }
 ],
 "metadata": {
  "kernelspec": {
   "display_name": ".venv",
   "language": "python",
   "name": "python3"
  },
  "language_info": {
   "codemirror_mode": {
    "name": "ipython",
    "version": 3
   },
   "file_extension": ".py",
   "mimetype": "text/x-python",
   "name": "python",
   "nbconvert_exporter": "python",
   "pygments_lexer": "ipython3",
   "version": "3.9.13"
  }
 },
 "nbformat": 4,
 "nbformat_minor": 5
}
