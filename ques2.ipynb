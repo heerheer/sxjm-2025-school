{
 "cells": [
  {
   "cell_type": "code",
   "execution_count": 9,
   "id": "f9300fb4",
   "metadata": {},
   "outputs": [],
   "source": [
    "import pandas as pd\n",
    "\n",
    "# 读取数据\n",
    "df = pd.read_csv('data_processed_std.csv')"
   ]
  },
  {
   "cell_type": "code",
   "execution_count": null,
   "id": "9c86fabe",
   "metadata": {},
   "outputs": [
    {
     "name": "stdout",
     "output_type": "stream",
     "text": [
      "   孕妇代码    最早达标孕周     孕妇BMI\n",
      "0  A001  0.935433 -1.392187\n",
      "1  A001  0.935433 -1.260680\n",
      "2  A001  0.935433 -1.129174\n",
      "3  A002 -0.672166  0.360731\n",
      "4  A002 -0.672166  0.664012\n"
     ]
    }
   ],
   "source": [
    "\n",
    "\n",
    "# 1. 筛选男胎孕妇（Y染色体浓度非空）\n",
    "df_male = df[df['Y染色体浓度'].notna()].copy()\n",
    "\n",
    "df_male['孕周_float'] = df_male['检测孕周_周数']\n",
    "\n",
    "# 3. 找到每个孕妇的最早达标时间\n",
    "threshold = 0.04  # 4%\n",
    "earliest_times = df_male[df_male['Y染色体浓度'] >= threshold] \\\n",
    "    .groupby('孕妇代码')['孕周_float'].min().reset_index()\n",
    "\n",
    "earliest_times.rename(columns={'孕周_float': '最早达标孕周'}, inplace=True)\n",
    "\n",
    "# 4. 合并回原数据（保留BMI）\n",
    "df_bmi = df_male[['孕妇代码', '孕妇BMI']].drop_duplicates()\n",
    "df_merged = pd.merge(earliest_times, df_bmi, on='孕妇代码', how='left')\n",
    "\n",
    "print(df_merged.head())\n"
   ]
  },
  {
   "cell_type": "code",
   "execution_count": 3,
   "id": "e618cf37",
   "metadata": {},
   "outputs": [
    {
     "data": {
      "text/html": [
       "<div>\n",
       "<style scoped>\n",
       "    .dataframe tbody tr th:only-of-type {\n",
       "        vertical-align: middle;\n",
       "    }\n",
       "\n",
       "    .dataframe tbody tr th {\n",
       "        vertical-align: top;\n",
       "    }\n",
       "\n",
       "    .dataframe thead th {\n",
       "        text-align: right;\n",
       "    }\n",
       "</style>\n",
       "<table border=\"1\" class=\"dataframe\">\n",
       "  <thead>\n",
       "    <tr style=\"text-align: right;\">\n",
       "      <th></th>\n",
       "      <th>孕妇代码</th>\n",
       "      <th>最早达标孕周</th>\n",
       "      <th>孕妇BMI</th>\n",
       "    </tr>\n",
       "  </thead>\n",
       "  <tbody>\n",
       "    <tr>\n",
       "      <th>0</th>\n",
       "      <td>A001</td>\n",
       "      <td>0.935433</td>\n",
       "      <td>-1.392187</td>\n",
       "    </tr>\n",
       "    <tr>\n",
       "      <th>3</th>\n",
       "      <td>A002</td>\n",
       "      <td>-0.672166</td>\n",
       "      <td>0.360731</td>\n",
       "    </tr>\n",
       "    <tr>\n",
       "      <th>6</th>\n",
       "      <td>A003</td>\n",
       "      <td>-0.197194</td>\n",
       "      <td>-0.511092</td>\n",
       "    </tr>\n",
       "    <tr>\n",
       "      <th>10</th>\n",
       "      <td>A004</td>\n",
       "      <td>-0.197194</td>\n",
       "      <td>-1.218390</td>\n",
       "    </tr>\n",
       "    <tr>\n",
       "      <th>13</th>\n",
       "      <td>A005</td>\n",
       "      <td>-1.074066</td>\n",
       "      <td>-0.775917</td>\n",
       "    </tr>\n",
       "    <tr>\n",
       "      <th>...</th>\n",
       "      <td>...</td>\n",
       "      <td>...</td>\n",
       "      <td>...</td>\n",
       "    </tr>\n",
       "    <tr>\n",
       "      <th>759</th>\n",
       "      <td>A263</td>\n",
       "      <td>-1.000994</td>\n",
       "      <td>-0.980897</td>\n",
       "    </tr>\n",
       "    <tr>\n",
       "      <th>763</th>\n",
       "      <td>A264</td>\n",
       "      <td>-1.220212</td>\n",
       "      <td>0.070946</td>\n",
       "    </tr>\n",
       "    <tr>\n",
       "      <th>767</th>\n",
       "      <td>A265</td>\n",
       "      <td>-1.220212</td>\n",
       "      <td>0.491302</td>\n",
       "    </tr>\n",
       "    <tr>\n",
       "      <th>770</th>\n",
       "      <td>A266</td>\n",
       "      <td>-0.708703</td>\n",
       "      <td>-0.042159</td>\n",
       "    </tr>\n",
       "    <tr>\n",
       "      <th>772</th>\n",
       "      <td>A267</td>\n",
       "      <td>-1.256748</td>\n",
       "      <td>-0.524240</td>\n",
       "    </tr>\n",
       "  </tbody>\n",
       "</table>\n",
       "<p>248 rows × 3 columns</p>\n",
       "</div>"
      ],
      "text/plain": [
       "     孕妇代码    最早达标孕周     孕妇BMI\n",
       "0    A001  0.935433 -1.392187\n",
       "3    A002 -0.672166  0.360731\n",
       "6    A003 -0.197194 -0.511092\n",
       "10   A004 -0.197194 -1.218390\n",
       "13   A005 -1.074066 -0.775917\n",
       "..    ...       ...       ...\n",
       "759  A263 -1.000994 -0.980897\n",
       "763  A264 -1.220212  0.070946\n",
       "767  A265 -1.220212  0.491302\n",
       "770  A266 -0.708703 -0.042159\n",
       "772  A267 -1.256748 -0.524240\n",
       "\n",
       "[248 rows x 3 columns]"
      ]
     },
     "execution_count": 3,
     "metadata": {},
     "output_type": "execute_result"
    }
   ],
   "source": [
    "df_unique = df_merged.drop_duplicates(subset=['孕妇代码']).copy()\n",
    "df_unique"
   ]
  },
  {
   "cell_type": "code",
   "execution_count": 4,
   "id": "74af9393",
   "metadata": {},
   "outputs": [
    {
     "name": "stdout",
     "output_type": "stream",
     "text": [
      "                min       max      mean  count\n",
      "BMI_group                                     \n",
      "0          0.828365  2.370669  1.354451     34\n",
      "1         -1.899078 -0.865509 -1.155833     59\n",
      "2         -0.847072 -0.160427 -0.558177     83\n",
      "3         -0.116925  0.777691  0.284216     72\n"
     ]
    }
   ],
   "source": [
    "from sklearn.cluster import KMeans\n",
    "import numpy as np\n",
    "\n",
    "# 提取BMI列\n",
    "X = df_unique[['孕妇BMI']].values\n",
    "\n",
    "# K-means 聚类\n",
    "kmeans = KMeans(n_clusters=4, random_state=0, n_init=10)\n",
    "df_unique['BMI_group'] = kmeans.fit_predict(X)\n",
    "\n",
    "# 查看每组的BMI范围\n",
    "group_ranges = df_unique.groupby('BMI_group')['孕妇BMI'].agg(['min','max','mean','count'])\n",
    "print(group_ranges)\n"
   ]
  },
  {
   "cell_type": "code",
   "execution_count": 5,
   "id": "5c6a2fa2",
   "metadata": {},
   "outputs": [
    {
     "name": "stdout",
     "output_type": "stream",
     "text": [
      "                 min        max       mean  count\n",
      "BMI_group                                        \n",
      "1          26.619343  29.689436  28.827062     59\n",
      "2          29.744200  31.783795  30.602328     83\n",
      "3          31.913011  34.570361  33.104554     72\n",
      "0          34.720883  39.302112  36.283557     34\n"
     ]
    }
   ],
   "source": [
    "import pandas as pd\n",
    "from sklearn.cluster import KMeans\n",
    "\n",
    "# 读取数据\n",
    "df = pd.read_csv('data_processed_std.csv')\n",
    "df_mean_std = pd.read_csv('feature_mean_std.csv')\n",
    "\n",
    "# 提取BMI均值和标准差\n",
    "bmi_mean = df_mean_std.loc[df_mean_std['特征名'] == '孕妇BMI', '均值'].values[0]\n",
    "bmi_std = df_mean_std.loc[df_mean_std['特征名'] == '孕妇BMI', '标准差'].values[0]\n",
    "\n",
    "# 只保留男胎孕妇\n",
    "df_male = df[df['Y染色体浓度'].notna()].copy()\n",
    "\n",
    "\n",
    "\n",
    "df_male['孕周_float'] = df_male['检测孕周_周数'].astype(float)\n",
    "\n",
    "# 找最早达标孕周\n",
    "threshold = 0.04\n",
    "earliest_times = df_male[df_male['Y染色体浓度'] >= threshold] \\\n",
    "    .groupby('孕妇代码')['孕周_float'].min().reset_index()\n",
    "earliest_times.rename(columns={'孕周_float': '最早达标孕周'}, inplace=True)\n",
    "\n",
    "# 合并BMI（标准化值）\n",
    "df_bmi = df_male[['孕妇代码', '孕妇BMI']].drop_duplicates()\n",
    "df_merged = pd.merge(earliest_times, df_bmi, on='孕妇代码', how='left')\n",
    "\n",
    "# 去重\n",
    "df_unique = df_merged.drop_duplicates(subset=['孕妇代码']).copy()\n",
    "\n",
    "# 反标准化BMI\n",
    "df_unique['BMI_real'] = df_unique['孕妇BMI'] * bmi_std + bmi_mean\n",
    "\n",
    "# K-means 分组（假设4组，可调）\n",
    "kmeans = KMeans(n_clusters=4, random_state=0, n_init=10)\n",
    "df_unique['BMI_group'] = kmeans.fit_predict(df_unique[['BMI_real']])\n",
    "\n",
    "# 查看每组的真实BMI范围\n",
    "group_ranges = df_unique.groupby('BMI_group')['BMI_real'].agg(['min','max','mean','count']).sort_values('min')\n",
    "print(group_ranges)\n"
   ]
  },
  {
   "cell_type": "code",
   "execution_count": 7,
   "id": "8f55dfb1",
   "metadata": {},
   "outputs": [
    {
     "name": "stdout",
     "output_type": "stream",
     "text": [
      "   BMI_group  最佳孕周  最小风险\n",
      "0          0  10.0   0.0\n",
      "1          1  10.0   0.0\n",
      "2          2  10.0   0.0\n",
      "3          3  10.0   0.0\n"
     ]
    }
   ],
   "source": [
    "import numpy as np\n",
    "\n",
    "# 假设最晚检测孕周\n",
    "T_deadline = 20\n",
    "w1, w2 = 1, 1\n",
    "\n",
    "best_times = []\n",
    "\n",
    "for g in sorted(df_unique['BMI_group'].unique()):\n",
    "    group_data = df_unique[df_unique['BMI_group'] == g]\n",
    "    earliest_weeks = group_data['最早达标孕周'].dropna().values\n",
    "    \n",
    "    candidate_t = np.arange(10, 25, 0.1)  # 从10周到24周，每0.1周一个点\n",
    "    risks = []\n",
    "    \n",
    "    for t in candidate_t:\n",
    "        risk_early = np.mean(earliest_weeks > t)  # 未达标风险\n",
    "        risk_late = 1.0 if t > T_deadline else 0.0  # 晚发现风险（硬阈值）\n",
    "        risk = w1 * risk_early + w2 * risk_late\n",
    "        risks.append(risk)\n",
    "    \n",
    "    t_best = candidate_t[np.argmin(risks)]\n",
    "    best_times.append((g, t_best, np.min(risks)))\n",
    "\n",
    "best_df = pd.DataFrame(best_times, columns=['BMI_group', '最佳孕周', '最小风险'])\n",
    "print(best_df)\n"
   ]
  }
 ],
 "metadata": {
  "kernelspec": {
   "display_name": ".venv",
   "language": "python",
   "name": "python3"
  },
  "language_info": {
   "codemirror_mode": {
    "name": "ipython",
    "version": 3
   },
   "file_extension": ".py",
   "mimetype": "text/x-python",
   "name": "python",
   "nbconvert_exporter": "python",
   "pygments_lexer": "ipython3",
   "version": "3.9.13"
  }
 },
 "nbformat": 4,
 "nbformat_minor": 5
}
