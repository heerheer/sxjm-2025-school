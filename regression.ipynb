{
 "cells": [
  {
   "cell_type": "code",
   "execution_count": null,
   "id": "24096e76",
   "metadata": {},
   "outputs": [
    {
     "name": "stdout",
     "output_type": "stream",
     "text": [
      "                            OLS Regression Results                            \n",
      "==============================================================================\n",
      "Dep. Variable:                 Y染色体浓度   R-squared:                       0.127\n",
      "Model:                            OLS   Adj. R-squared:                  0.123\n",
      "Method:                 Least Squares   F-statistic:                     33.82\n",
      "Date:                Fri, 05 Sep 2025   Prob (F-statistic):           2.21e-26\n",
      "Time:                        14:23:49   Log-Likelihood:                -1193.2\n",
      "No. Observations:                 938   AIC:                             2396.\n",
      "Df Residuals:                     933   BIC:                             2421.\n",
      "Df Model:                           4                                         \n",
      "Covariance Type:            nonrobust                                         \n",
      "==============================================================================\n",
      "                 coef    std err          t      P>|t|      [0.025      0.975]\n",
      "------------------------------------------------------------------------------\n",
      "const          0.0272      0.028      0.962      0.336      -0.028       0.083\n",
      "年龄            -0.0806      0.028     -2.857      0.004      -0.136      -0.025\n",
      "孕妇BMI         -0.1733      0.032     -5.331      0.000      -0.237      -0.109\n",
      "检测孕周_周数        0.1740      0.032      5.394      0.000       0.111       0.237\n",
      "末次月经          -0.2729      0.030     -9.232      0.000      -0.331      -0.215\n",
      "==============================================================================\n",
      "Omnibus:                       17.944   Durbin-Watson:                   0.947\n",
      "Prob(Omnibus):                  0.000   Jarque-Bera (JB):               18.641\n",
      "Skew:                           0.345   Prob(JB):                     8.96e-05\n",
      "Kurtosis:                       3.004   Cond. No.                         1.37\n",
      "==============================================================================\n",
      "\n",
      "Notes:\n",
      "[1] Standard Errors assume that the covariance matrix of the errors is correctly specified.\n"
     ]
    },
    {
     "ename": "AttributeError",
     "evalue": "'OLSResults' object has no attribute 'mean_absolute_error'",
     "output_type": "error",
     "traceback": [
      "\u001b[31m---------------------------------------------------------------------------\u001b[39m",
      "\u001b[31mAttributeError\u001b[39m                            Traceback (most recent call last)",
      "\u001b[36mCell\u001b[39m\u001b[36m \u001b[39m\u001b[32mIn[39]\u001b[39m\u001b[32m, line 38\u001b[39m\n\u001b[32m     34\u001b[39m \u001b[38;5;28mprint\u001b[39m(model.summary())\n\u001b[32m     37\u001b[39m \u001b[38;5;66;03m# 输出model的MAE等指标\u001b[39;00m\n\u001b[32m---> \u001b[39m\u001b[32m38\u001b[39m mae = \u001b[43mmodel\u001b[49m\u001b[43m.\u001b[49m\u001b[43mmean_absolute_error\u001b[49m(X, y)\n\u001b[32m     39\u001b[39m mse = model.mean_squared_error(X, y)\n\u001b[32m     40\u001b[39m rmse = model.mean_squared_error(X, y, squared=\u001b[38;5;28;01mFalse\u001b[39;00m)\n",
      "\u001b[36mFile \u001b[39m\u001b[32ms:\\academic_codes\\sxjm-2025-school\\.venv\\Lib\\site-packages\\statsmodels\\base\\wrapper.py:34\u001b[39m, in \u001b[36mResultsWrapper.__getattribute__\u001b[39m\u001b[34m(self, attr)\u001b[39m\n\u001b[32m     31\u001b[39m \u001b[38;5;28;01mexcept\u001b[39;00m \u001b[38;5;167;01mAttributeError\u001b[39;00m:\n\u001b[32m     32\u001b[39m     \u001b[38;5;28;01mpass\u001b[39;00m\n\u001b[32m---> \u001b[39m\u001b[32m34\u001b[39m obj = \u001b[38;5;28mgetattr\u001b[39m(results, attr)\n\u001b[32m     35\u001b[39m data = results.model.data\n\u001b[32m     36\u001b[39m how = \u001b[38;5;28mself\u001b[39m._wrap_attrs.get(attr)\n",
      "\u001b[31mAttributeError\u001b[39m: 'OLSResults' object has no attribute 'mean_absolute_error'"
     ]
    }
   ],
   "source": [
    "import pandas as pd\n",
    "import statsmodels.api as sm\n",
    "\n",
    "# 1. 读取处理后的数据\n",
    "df_raw = pd.read_csv('data_processed.csv')\n",
    "df = pd.read_csv('data_processed_std.csv')\n",
    "\n",
    "\n",
    "# # 创建一个新的列，这个列的数据=检测日期 - 末次月经\n",
    "# df['检测日期-末次月经'] = df_raw['检测日期'] - df_raw['末次月经']\n",
    "\n",
    "# # 对 '检测日期-末次月经' 列进行min-max标准化\n",
    "# min_val = df['检测日期-末次月经'].min()\n",
    "# max_val = df['检测日期-末次月经'].max()\n",
    "# df['检测日期-末次月经'] = (df['检测日期-末次月经'] - min_val) / (max_val - min_val)\n",
    "\n",
    "# 2. 设置因变量（目标变量）\n",
    "target_col = 'Y染色体浓度'  # 你可以改成其他目标变量\n",
    "\n",
    "# 3. 选择数值型自变量（排除目标列）\n",
    "numeric_cols = ['年龄', '孕妇BMI', '检测孕周_周数','末次月经']\n",
    "\n",
    "# 4. 定义 X 和 y\n",
    "X = df[numeric_cols]\n",
    "y = df[target_col]\n",
    "\n",
    "# 5. 添加常数项（截距）\n",
    "X = sm.add_constant(X)\n",
    "\n",
    "# 6. 建立 OLS 回归模型\n",
    "model = sm.OLS(y, X).fit()\n",
    "\n",
    "# 7. 输出回归结果\n",
    "print(model.summary())\n",
    "\n",
    "\n",
    "# 输出model的MAE等指标，由于是OLS模型，所以不适合计算MAE、MSE、RMSE\n",
    "\n",
    "\n",
    "# 8. 提取显著性变量（p < 0.05）\n",
    "p_values = model.pvalues\n",
    "significant_vars = p_values[p_values < 0.05].index.tolist()\n",
    "\n",
    "# 去掉常数项\n",
    "if 'const' in significant_vars:\n",
    "    significant_vars.remove('const')\n",
    "\n",
    "print(\"\\n显著性变量（p < 0.05）：\")\n",
    "print(significant_vars)\n",
    "\n",
    "# 9. 保存回归结果到文件\n",
    "summary_df = pd.DataFrame({\n",
    "    '变量': model.params.index,\n",
    "    '系数': model.params.values,\n",
    "    'p值': model.pvalues.values,\n",
    "    '显著性': ['显著' if p < 0.05 else '不显著' for p in model.pvalues.values]\n",
    "})\n",
    "summary_df.to_csv('regression_results.csv', index=False, encoding='utf-8-sig')\n",
    "\n",
    "print(\"\\n回归结果已保存到 regression_results.csv\")\n"
   ]
  },
  {
   "cell_type": "code",
   "execution_count": 36,
   "id": "ffe04023",
   "metadata": {},
   "outputs": [
    {
     "data": {
      "text/html": [
       "<div>\n",
       "<style scoped>\n",
       "    .dataframe tbody tr th:only-of-type {\n",
       "        vertical-align: middle;\n",
       "    }\n",
       "\n",
       "    .dataframe tbody tr th {\n",
       "        vertical-align: top;\n",
       "    }\n",
       "\n",
       "    .dataframe thead th {\n",
       "        text-align: right;\n",
       "    }\n",
       "</style>\n",
       "<table border=\"1\" class=\"dataframe\">\n",
       "  <thead>\n",
       "    <tr style=\"text-align: right;\">\n",
       "      <th></th>\n",
       "      <th>const</th>\n",
       "      <th>年龄</th>\n",
       "      <th>孕妇BMI</th>\n",
       "      <th>检测孕周_周数</th>\n",
       "      <th>检测日期-末次月经</th>\n",
       "    </tr>\n",
       "  </thead>\n",
       "  <tbody>\n",
       "    <tr>\n",
       "      <th>0</th>\n",
       "      <td>1.0</td>\n",
       "      <td>0.573644</td>\n",
       "      <td>-1.405969</td>\n",
       "      <td>-1.203172</td>\n",
       "      <td>0.385714</td>\n",
       "    </tr>\n",
       "    <tr>\n",
       "      <th>1</th>\n",
       "      <td>1.0</td>\n",
       "      <td>0.573644</td>\n",
       "      <td>-1.273748</td>\n",
       "      <td>-0.209069</td>\n",
       "      <td>0.538095</td>\n",
       "    </tr>\n",
       "    <tr>\n",
       "      <th>2</th>\n",
       "      <td>1.0</td>\n",
       "      <td>0.573644</td>\n",
       "      <td>-1.273748</td>\n",
       "      <td>0.856042</td>\n",
       "      <td>0.657143</td>\n",
       "    </tr>\n",
       "    <tr>\n",
       "      <th>3</th>\n",
       "      <td>1.0</td>\n",
       "      <td>0.573644</td>\n",
       "      <td>-1.141528</td>\n",
       "      <td>1.530612</td>\n",
       "      <td>0.757143</td>\n",
       "    </tr>\n",
       "    <tr>\n",
       "      <th>4</th>\n",
       "      <td>1.0</td>\n",
       "      <td>0.847052</td>\n",
       "      <td>0.356465</td>\n",
       "      <td>-0.706121</td>\n",
       "      <td>0.457143</td>\n",
       "    </tr>\n",
       "    <tr>\n",
       "      <th>...</th>\n",
       "      <td>...</td>\n",
       "      <td>...</td>\n",
       "      <td>...</td>\n",
       "      <td>...</td>\n",
       "      <td>...</td>\n",
       "    </tr>\n",
       "    <tr>\n",
       "      <th>933</th>\n",
       "      <td>1.0</td>\n",
       "      <td>0.300237</td>\n",
       "      <td>-0.048612</td>\n",
       "      <td>-0.741624</td>\n",
       "      <td>0.428571</td>\n",
       "    </tr>\n",
       "    <tr>\n",
       "      <th>934</th>\n",
       "      <td>1.0</td>\n",
       "      <td>0.300237</td>\n",
       "      <td>0.233950</td>\n",
       "      <td>0.252479</td>\n",
       "      <td>0.561905</td>\n",
       "    </tr>\n",
       "    <tr>\n",
       "      <th>935</th>\n",
       "      <td>1.0</td>\n",
       "      <td>-0.246578</td>\n",
       "      <td>-0.533310</td>\n",
       "      <td>-1.274180</td>\n",
       "      <td>0.357143</td>\n",
       "    </tr>\n",
       "    <tr>\n",
       "      <th>936</th>\n",
       "      <td>1.0</td>\n",
       "      <td>-0.246578</td>\n",
       "      <td>-0.491784</td>\n",
       "      <td>-1.025654</td>\n",
       "      <td>0.390476</td>\n",
       "    </tr>\n",
       "    <tr>\n",
       "      <th>937</th>\n",
       "      <td>1.0</td>\n",
       "      <td>-0.246578</td>\n",
       "      <td>-0.396420</td>\n",
       "      <td>-0.777128</td>\n",
       "      <td>0.423810</td>\n",
       "    </tr>\n",
       "  </tbody>\n",
       "</table>\n",
       "<p>938 rows × 5 columns</p>\n",
       "</div>"
      ],
      "text/plain": [
       "     const        年龄     孕妇BMI   检测孕周_周数  检测日期-末次月经\n",
       "0      1.0  0.573644 -1.405969 -1.203172   0.385714\n",
       "1      1.0  0.573644 -1.273748 -0.209069   0.538095\n",
       "2      1.0  0.573644 -1.273748  0.856042   0.657143\n",
       "3      1.0  0.573644 -1.141528  1.530612   0.757143\n",
       "4      1.0  0.847052  0.356465 -0.706121   0.457143\n",
       "..     ...       ...       ...       ...        ...\n",
       "933    1.0  0.300237 -0.048612 -0.741624   0.428571\n",
       "934    1.0  0.300237  0.233950  0.252479   0.561905\n",
       "935    1.0 -0.246578 -0.533310 -1.274180   0.357143\n",
       "936    1.0 -0.246578 -0.491784 -1.025654   0.390476\n",
       "937    1.0 -0.246578 -0.396420 -0.777128   0.423810\n",
       "\n",
       "[938 rows x 5 columns]"
      ]
     },
     "execution_count": 36,
     "metadata": {},
     "output_type": "execute_result"
    }
   ],
   "source": [
    "X"
   ]
  },
  {
   "cell_type": "markdown",
   "id": "d475ceed",
   "metadata": {},
   "source": [
    "## 第二次分析:\n",
    "\n",
    "这种现象在实际数据分析中很常见，原因可能有：\n",
    "\n",
    "多重共线性（Multicollinearity）\n",
    "\n",
    "BMI 和其他变量（如身高、体重）高度相关\n",
    "在 OLS 中，如果自变量之间高度相关，系数估计会不稳定，p 值会变大\n",
    "可能 BMI 的信息已经被“身高+体重”解释掉了\n",
    "模型设定不当\n",
    "\n",
    "OLS 假设是线性关系，但 BMI 和因变量可能是非线性关系\n",
    "如果真实关系是曲线型，线性模型会低估它的显著性\n",
    "噪声和样本量\n",
    "\n",
    "样本量不足或噪声较大，也会导致 p 值偏大\n",
    "多重比较问题\n",
    "\n",
    "你有很多变量（>20 个），在多次显著性检验中，必然会有一些变量 p 值不显著，即使它们在实际中有影响\n"
   ]
  },
  {
   "cell_type": "markdown",
   "id": "f7fa8ccb",
   "metadata": {},
   "source": [
    "### 方差膨胀因子（VIF）:"
   ]
  },
  {
   "cell_type": "code",
   "execution_count": 24,
   "id": "89d59258",
   "metadata": {},
   "outputs": [
    {
     "name": "stdout",
     "output_type": "stream",
     "text": [
      "         feature         VIF\n",
      "3             体重  408.539086\n",
      "8          孕妇BMI  236.741013\n",
      "2             身高  148.599371\n",
      "6           检测日期   85.476486\n",
      "4           末次月经   73.733558\n",
      "27       检测孕周_周数    5.116699\n",
      "7         检测抽血次数    2.568300\n",
      "17       X染色体的Z值    2.051902\n",
      "24          怀孕次数    1.789669\n",
      "20   13号染色体的GC含量    1.772619\n",
      "18       Y染色体的Z值    1.757459\n",
      "25          生产次数    1.742485\n",
      "13          GC含量    1.696878\n",
      "21   18号染色体的GC含量    1.667991\n",
      "22   21号染色体的GC含量    1.619536\n",
      "12      唯一比对的读段数    1.468183\n",
      "9          原始读段数    1.461448\n",
      "15     18号染色体的Z值    1.406597\n",
      "14     13号染色体的Z值    1.303527\n",
      "19        X染色体浓度    1.290843\n",
      "23    被过滤掉读段数的比例    1.141593\n",
      "26        胎儿是否健康    1.127160\n",
      "1             年龄    1.125899\n",
      "11       重复读段的比例    1.102555\n",
      "16     21号染色体的Z值    1.070954\n",
      "10  在参考基因组上比对的比例    1.064944\n",
      "5          IVF妊娠    1.060238\n",
      "0          const    1.050966\n"
     ]
    }
   ],
   "source": [
    "from statsmodels.stats.outliers_influence import variance_inflation_factor\n",
    "import pandas as pd\n",
    "\n",
    "import pandas as pd\n",
    "import statsmodels.api as sm\n",
    "\n",
    "# 1. 读取处理后的数据\n",
    "df = pd.read_csv('data_processed_std.csv')\n",
    "\n",
    "X = df.drop(columns=['Y染色体浓度'])  # 自变量\n",
    "X = sm.add_constant(X)\n",
    "vif_data = pd.DataFrame()\n",
    "vif_data[\"feature\"] = X.columns\n",
    "vif_data[\"VIF\"] = [variance_inflation_factor(X.values, i) for i in range(X.shape[1])]\n",
    "print(vif_data.sort_values(\"VIF\", ascending=False))"
   ]
  },
  {
   "cell_type": "markdown",
   "id": "498511dd",
   "metadata": {},
   "source": [
    "去除部分"
   ]
  },
  {
   "cell_type": "code",
   "execution_count": 26,
   "id": "ae73f182",
   "metadata": {},
   "outputs": [
    {
     "name": "stdout",
     "output_type": "stream",
     "text": [
      "   feature       VIF\n",
      "3  检测孕周_周数  1.079640\n",
      "4     末次月经  1.064791\n",
      "2    孕妇BMI  1.024127\n",
      "0    const  1.004975\n",
      "1       年龄  1.002220\n"
     ]
    }
   ],
   "source": [
    "# 1. 读取处理后的数据\n",
    "df = pd.read_csv('data_processed_std.csv')\n",
    "\n",
    "X = df[['年龄', '孕妇BMI', '检测孕周_周数','末次月经']]  # 自变量\n",
    "X = sm.add_constant(X)\n",
    "vif_data = pd.DataFrame()\n",
    "vif_data[\"feature\"] = X.columns\n",
    "vif_data[\"VIF\"] = [variance_inflation_factor(X.values, i) for i in range(X.shape[1])]\n",
    "print(vif_data.sort_values(\"VIF\", ascending=False))"
   ]
  },
  {
   "cell_type": "markdown",
   "id": "66e07600",
   "metadata": {},
   "source": [
    "### LassoCV"
   ]
  },
  {
   "cell_type": "code",
   "execution_count": null,
   "id": "67e571c7",
   "metadata": {},
   "outputs": [
    {
     "name": "stdout",
     "output_type": "stream",
     "text": [
      "const           0.000000e+00\n",
      "年龄             -0.000000e+00\n",
      "身高             -0.000000e+00\n",
      "体重             -0.000000e+00\n",
      "末次月经           -8.627704e-10\n",
      "IVF妊娠           0.000000e+00\n",
      "检测日期            0.000000e+00\n",
      "检测抽血次数          0.000000e+00\n",
      "孕妇BMI          -0.000000e+00\n",
      "原始读段数          -0.000000e+00\n",
      "在参考基因组上比对的比例   -0.000000e+00\n",
      "重复读段的比例         0.000000e+00\n",
      "唯一比对的读段数       -0.000000e+00\n",
      "GC含量           -0.000000e+00\n",
      "13号染色体的Z值      -0.000000e+00\n",
      "18号染色体的Z值      -0.000000e+00\n",
      "21号染色体的Z值       0.000000e+00\n",
      "X染色体的Z值        -0.000000e+00\n",
      "Y染色体的Z值         0.000000e+00\n",
      "X染色体浓度          0.000000e+00\n",
      "13号染色体的GC含量    -0.000000e+00\n",
      "18号染色体的GC含量    -0.000000e+00\n",
      "21号染色体的GC含量    -0.000000e+00\n",
      "被过滤掉读段数的比例      0.000000e+00\n",
      "怀孕次数           -0.000000e+00\n",
      "生产次数            0.000000e+00\n",
      "胎儿是否健康          0.000000e+00\n",
      "检测孕周_周数         0.000000e+00\n",
      "dtype: float64\n"
     ]
    }
   ],
   "source": [
    "from sklearn.linear_model import LassoCV\n",
    "model = LassoCV(cv=5).fit(X, y)\n",
    "coef = pd.Series(model.coef_, index=X.columns)\n",
    "print(coef)\n"
   ]
  },
  {
   "cell_type": "markdown",
   "id": "3cea7384",
   "metadata": {},
   "source": [
    "### 用 随机森林 计算特征重要性"
   ]
  },
  {
   "cell_type": "code",
   "execution_count": 25,
   "id": "02575238",
   "metadata": {},
   "outputs": [
    {
     "name": "stdout",
     "output_type": "stream",
     "text": [
      "X染色体浓度          0.322120\n",
      "检测日期            0.129149\n",
      "Y染色体的Z值         0.075713\n",
      "检测抽血次数          0.070651\n",
      "检测孕周_周数         0.068856\n",
      "孕妇BMI           0.050454\n",
      "X染色体的Z值         0.037723\n",
      "末次月经            0.024920\n",
      "被过滤掉读段数的比例      0.024850\n",
      "18号染色体的Z值       0.020842\n",
      "在参考基因组上比对的比例    0.019056\n",
      "GC含量            0.016015\n",
      "13号染色体的GC含量     0.015601\n",
      "21号染色体的GC含量     0.015131\n",
      "唯一比对的读段数        0.015127\n",
      "重复读段的比例         0.014959\n",
      "21号染色体的Z值       0.014843\n",
      "13号染色体的Z值       0.014217\n",
      "18号染色体的GC含量     0.014034\n",
      "年龄              0.013128\n",
      "原始读段数           0.012927\n",
      "生产次数            0.003989\n",
      "怀孕次数            0.003784\n",
      "胎儿是否健康          0.001611\n",
      "IVF妊娠           0.000300\n",
      "dtype: float64\n"
     ]
    }
   ],
   "source": [
    "from sklearn.ensemble import RandomForestRegressor\n",
    "rf = RandomForestRegressor()\n",
    "X = X.drop(['const'], axis=1)\n",
    "rf.fit(X, y)\n",
    "importance = pd.Series(rf.feature_importances_, index=X.columns)\n",
    "print(importance.sort_values(ascending=False))"
   ]
  },
  {
   "cell_type": "markdown",
   "id": "49038ea4",
   "metadata": {},
   "source": [
    "这边可以看到，以0.01作为判别，我们可以取出下面的变量"
   ]
  },
  {
   "cell_type": "code",
   "execution_count": null,
   "id": "c4163932",
   "metadata": {},
   "outputs": [
    {
     "data": {
      "text/plain": [
       "Index(['X染色体浓度', '检测日期', 'Y染色体的Z值', '检测孕周_周数', '检测抽血次数', '孕妇BMI', 'X染色体的Z值',\n",
       "       '末次月经', '被过滤掉读段数的比例', '18号染色体的Z值', '在参考基因组上比对的比例', '13号染色体的Z值',\n",
       "       '21号染色体的GC含量', '13号染色体的GC含量', '21号染色体的Z值', 'GC含量', '重复读段的比例', '原始读段数',\n",
       "       '唯一比对的读段数', '18号染色体的GC含量', '年龄'],\n",
       "      dtype='object')"
      ]
     },
     "execution_count": 19,
     "metadata": {},
     "output_type": "execute_result"
    }
   ],
   "source": [
    "# 取出importance.sort_values(ascending=False)中大于0.01的\n",
    "filtered_importance = importance.sort_values(ascending=False)[importance > 0.01]\n",
    "filtered_importance.keys()"
   ]
  },
  {
   "cell_type": "markdown",
   "id": "5713f2eb",
   "metadata": {},
   "source": [
    "### 尝试3 多项式回归（Polynomial Regression）"
   ]
  },
  {
   "cell_type": "code",
   "execution_count": 19,
   "id": "2f777514",
   "metadata": {},
   "outputs": [
    {
     "name": "stdout",
     "output_type": "stream",
     "text": [
      "训练集得分: 0.259\n",
      "测试集得分: 0.242\n"
     ]
    }
   ],
   "source": [
    "from sklearn.preprocessing import PolynomialFeatures\n",
    "from sklearn.linear_model import Ridge\n",
    "from sklearn.pipeline import Pipeline\n",
    "from sklearn.model_selection import train_test_split\n",
    "\n",
    "# 分割数据\n",
    "X_train, X_test, y_train, y_test = train_test_split(X, y, test_size=0.2)\n",
    "\n",
    "# 创建并训练模型\n",
    "model = Pipeline([\n",
    "    ('poly', PolynomialFeatures(degree=4)),\n",
    "    ('model', Ridge())\n",
    "])\n",
    "model.fit(X_train, y_train)\n",
    "\n",
    "# 输出结果\n",
    "print(f\"训练集得分: {model.score(X_train, y_train):.3f}\")\n",
    "print(f\"测试集得分: {model.score(X_test, y_test):.3f}\")"
   ]
  },
  {
   "cell_type": "markdown",
   "id": "795818d9",
   "metadata": {},
   "source": [
    "SVR"
   ]
  },
  {
   "cell_type": "code",
   "execution_count": 20,
   "id": "b602dc8c",
   "metadata": {},
   "outputs": [
    {
     "name": "stdout",
     "output_type": "stream",
     "text": [
      "R^2: 0.27460323780872\n"
     ]
    }
   ],
   "source": [
    "from sklearn.svm import SVR\n",
    "svr = SVR(kernel='rbf', C=100, gamma=0.1, epsilon=0.01)\n",
    "svr.fit(X, y)\n",
    "print(\"R^2:\", svr.score(X, y))"
   ]
  },
  {
   "cell_type": "code",
   "execution_count": 22,
   "id": "04bde883",
   "metadata": {},
   "outputs": [
    {
     "name": "stdout",
     "output_type": "stream",
     "text": [
      "R^2: 0.16159323749538967\n"
     ]
    }
   ],
   "source": [
    "from sklearn.neural_network import MLPRegressor\n",
    "mlp = MLPRegressor(hidden_layer_sizes=(64, 32), max_iter=1000, random_state=42)\n",
    "mlp.fit(X_train, y_train)\n",
    "print(\"R^2:\", mlp.score(X_test, y_test))\n"
   ]
  }
 ],
 "metadata": {
  "kernelspec": {
   "display_name": ".venv",
   "language": "python",
   "name": "python3"
  },
  "language_info": {
   "codemirror_mode": {
    "name": "ipython",
    "version": 3
   },
   "file_extension": ".py",
   "mimetype": "text/x-python",
   "name": "python",
   "nbconvert_exporter": "python",
   "pygments_lexer": "ipython3",
   "version": "3.11.12"
  }
 },
 "nbformat": 4,
 "nbformat_minor": 5
}
