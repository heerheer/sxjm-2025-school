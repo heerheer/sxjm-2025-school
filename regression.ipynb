{
 "cells": [
  {
   "cell_type": "markdown",
   "id": "40874d2e",
   "metadata": {},
   "source": [
    "## 1. 只考虑两种题目中给定的特征"
   ]
  },
  {
   "cell_type": "code",
   "execution_count": 11,
   "id": "ebf1b651",
   "metadata": {},
   "outputs": [
    {
     "name": "stdout",
     "output_type": "stream",
     "text": [
      "                            OLS Regression Results                            \n",
      "==============================================================================\n",
      "Dep. Variable:                 Y染色体浓度   R-squared:                       0.043\n",
      "Model:                            OLS   Adj. R-squared:                  0.041\n",
      "Method:                 Least Squares   F-statistic:                     22.64\n",
      "Date:                Sat, 06 Sep 2025   Prob (F-statistic):           2.42e-10\n",
      "Time:                        10:10:15   Log-Likelihood:                 2024.3\n",
      "No. Observations:                1009   AIC:                            -4043.\n",
      "Df Residuals:                    1006   BIC:                            -4028.\n",
      "Df Model:                           2                                         \n",
      "Covariance Type:            nonrobust                                         \n",
      "==============================================================================\n",
      "                 coef    std err          t      P>|t|      [0.025      0.975]\n",
      "------------------------------------------------------------------------------\n",
      "const          0.0780      0.001     76.063      0.000       0.076       0.080\n",
      "检测孕周_周数        0.0053      0.001      5.121      0.000       0.003       0.007\n",
      "孕妇BMI         -0.0052      0.001     -5.037      0.000      -0.007      -0.003\n",
      "==============================================================================\n",
      "Omnibus:                       71.810   Durbin-Watson:                   0.859\n",
      "Prob(Omnibus):                  0.000   Jarque-Bera (JB):               95.853\n",
      "Skew:                           0.602   Prob(JB):                     1.53e-21\n",
      "Kurtosis:                       3.913   Cond. No.                         1.15\n",
      "==============================================================================\n",
      "\n",
      "Notes:\n",
      "[1] Standard Errors assume that the covariance matrix of the errors is correctly specified.\n",
      "\n",
      "显著性变量（p < 0.05）：\n",
      "['检测孕周_周数', '孕妇BMI']\n",
      "\n",
      "回归结果已保存到 regression_results_only2.csv\n"
     ]
    }
   ],
   "source": [
    "import pandas as pd\n",
    "import statsmodels.api as sm\n",
    "\n",
    "# 1. 读取处理后的数据\n",
    "df_raw = pd.read_csv('data_processed.csv')\n",
    "df = pd.read_csv('data_processed_std.csv')\n",
    "\n",
    "\n",
    "# 2. 设置因变量（目标变量）\n",
    "target_col = 'Y染色体浓度' \n",
    "\n",
    "# 3. 选择数值型自变量（排除目标列）\n",
    "numeric_cols = ['检测孕周_周数','孕妇BMI']\n",
    "\n",
    "# 4. 定义 X 和 y\n",
    "X = df[numeric_cols]\n",
    "y = df[target_col]\n",
    "\n",
    "# 5. 添加常数项（截距）\n",
    "X = sm.add_constant(X)\n",
    "\n",
    "# 6. 建立 OLS 回归模型\n",
    "model = sm.OLS(y, X).fit()\n",
    "\n",
    "# 7. 输出回归结果\n",
    "print(model.summary())\n",
    "\n",
    "\n",
    "# 8. 提取显著性变量（p < 0.05）\n",
    "p_values = model.pvalues\n",
    "significant_vars = p_values[p_values < 0.05].index.tolist()\n",
    "\n",
    "# 去掉常数项\n",
    "if 'const' in significant_vars:\n",
    "    significant_vars.remove('const')\n",
    "\n",
    "print(\"\\n显著性变量（p < 0.05）：\")\n",
    "print(significant_vars)\n",
    "\n",
    "# 9. 保存回归结果到文件\n",
    "summary_df = pd.DataFrame({\n",
    "    '变量': model.params.index,\n",
    "    '系数': model.params.values,\n",
    "    'p值': model.pvalues.values,\n",
    "    '显著性': ['显著' if p < 0.05 else '不显著' for p in model.pvalues.values]\n",
    "})\n",
    "summary_df.to_csv('regression_results_only2.csv', index=False, encoding='utf-8-sig')\n",
    "\n",
    "print(\"\\n回归结果已保存到 regression_results_only2.csv\")\n"
   ]
  },
  {
   "cell_type": "code",
   "execution_count": 12,
   "id": "91759020",
   "metadata": {},
   "outputs": [
    {
     "name": "stdout",
     "output_type": "stream",
     "text": [
      "               下限        上限\n",
      "const    0.076032  0.080059\n",
      "检测孕周_周数  0.003274  0.007343\n",
      "孕妇BMI   -0.007257 -0.003188\n",
      "\n",
      "置信区间法显著变量（95% CI 不包含 0）：\n",
      "['检测孕周_周数', '孕妇BMI']\n"
     ]
    }
   ],
   "source": [
    "# 获取 95% 置信区间\n",
    "conf_int_95 = model.conf_int(alpha=0.05)  # alpha=0.05 表示 95% 置信水平\n",
    "conf_int_95.columns = ['下限', '上限']\n",
    "print(conf_int_95)\n",
    "\n",
    "# 判断置信区间是否包含 0\n",
    "significant_ci_vars = conf_int_95[\n",
    "    (conf_int_95['下限'] > 0) | (conf_int_95['上限'] < 0)\n",
    "].index.tolist()\n",
    "# 去掉常数项\n",
    "if 'const' in significant_ci_vars:\n",
    "    significant_ci_vars.remove('const')\n",
    "print(\"\\n置信区间法显著变量（95% CI 不包含 0）：\")\n",
    "print(significant_ci_vars)"
   ]
  },
  {
   "cell_type": "markdown",
   "id": "ab7b73b3",
   "metadata": {},
   "source": [
    "## 2. 考虑多个可能的特征"
   ]
  },
  {
   "cell_type": "code",
   "execution_count": 13,
   "id": "24096e76",
   "metadata": {},
   "outputs": [
    {
     "name": "stdout",
     "output_type": "stream",
     "text": [
      "                            OLS Regression Results                            \n",
      "==============================================================================\n",
      "Dep. Variable:                 Y染色体浓度   R-squared:                       0.058\n",
      "Model:                            OLS   Adj. R-squared:                  0.052\n",
      "Method:                 Least Squares   F-statistic:                     10.22\n",
      "Date:                Sat, 06 Sep 2025   Prob (F-statistic):           5.29e-11\n",
      "Time:                        10:10:15   Log-Likelihood:                 2032.0\n",
      "No. Observations:                1009   AIC:                            -4050.\n",
      "Df Residuals:                    1002   BIC:                            -4016.\n",
      "Df Model:                           6                                         \n",
      "Covariance Type:            nonrobust                                         \n",
      "==============================================================================\n",
      "                 coef    std err          t      P>|t|      [0.025      0.975]\n",
      "------------------------------------------------------------------------------\n",
      "const          0.0790      0.003     31.154      0.000       0.074       0.084\n",
      "检测孕周_周数        0.0053      0.001      5.121      0.000       0.003       0.007\n",
      "年龄            -0.0035      0.001     -3.306      0.001      -0.006      -0.001\n",
      "孕妇BMI         -0.0053      0.001     -5.148      0.000      -0.007      -0.003\n",
      "IVF妊娠         -0.0053      0.005     -1.001      0.317      -0.016       0.005\n",
      "怀孕次数          -0.0011      0.002     -0.696      0.487      -0.004       0.002\n",
      "生产次数           0.0029      0.002      1.395      0.163      -0.001       0.007\n",
      "==============================================================================\n",
      "Omnibus:                       66.341   Durbin-Watson:                   0.874\n",
      "Prob(Omnibus):                  0.000   Jarque-Bera (JB):               86.433\n",
      "Skew:                           0.577   Prob(JB):                     1.70e-19\n",
      "Kurtosis:                       3.851   Cond. No.                         11.5\n",
      "==============================================================================\n",
      "\n",
      "Notes:\n",
      "[1] Standard Errors assume that the covariance matrix of the errors is correctly specified.\n",
      "\n",
      "显著性变量（p < 0.05）：\n",
      "['检测孕周_周数', '年龄', '孕妇BMI']\n",
      "\n",
      "回归结果已保存到 regression_results.csv\n"
     ]
    }
   ],
   "source": [
    "import pandas as pd\n",
    "import statsmodels.api as sm\n",
    "\n",
    "# 1. 读取处理后的数据\n",
    "df_raw = pd.read_csv('data_processed.csv')\n",
    "df = pd.read_csv('data_processed_std.csv')\n",
    "\n",
    "\n",
    "# 2. 设置因变量（目标变量）\n",
    "target_col = 'Y染色体浓度'  # 你可以改成其他目标变量\n",
    "\n",
    "# 3. 选择数值型自变量（排除目标列）\n",
    "numeric_cols = ['检测孕周_周数','年龄','孕妇BMI','IVF妊娠','怀孕次数','生产次数']\n",
    "\n",
    "# 4. 定义 X 和 y\n",
    "X = df[numeric_cols]\n",
    "y = df[target_col]\n",
    "\n",
    "# 5. 添加常数项（截距）\n",
    "X = sm.add_constant(X)\n",
    "\n",
    "# 6. 建立 OLS 回归模型\n",
    "model = sm.OLS(y, X).fit()\n",
    "\n",
    "# 7. 输出回归结果\n",
    "print(model.summary())\n",
    "\n",
    "\n",
    "# 输出model的MAE等指标，由于是OLS模型，所以不适合计算MAE、MSE、RMSE\n",
    "\n",
    "\n",
    "# 8. 提取显著性变量（p < 0.05）\n",
    "p_values = model.pvalues\n",
    "significant_vars = p_values[p_values < 0.05].index.tolist()\n",
    "\n",
    "# 去掉常数项\n",
    "if 'const' in significant_vars:\n",
    "    significant_vars.remove('const')\n",
    "\n",
    "print(\"\\n显著性变量（p < 0.05）：\")\n",
    "print(significant_vars)\n",
    "\n",
    "# 9. 保存回归结果到文件\n",
    "summary_df = pd.DataFrame({\n",
    "    '变量': model.params.index,\n",
    "    '系数': model.params.values,\n",
    "    'p值': model.pvalues.values,\n",
    "    '显著性': ['显著' if p < 0.05 else '不显著' for p in model.pvalues.values]\n",
    "})\n",
    "summary_df.to_csv('regression_results.csv', index=False, encoding='utf-8-sig')\n",
    "\n",
    "print(\"\\n回归结果已保存到 regression_results.csv\")\n"
   ]
  },
  {
   "cell_type": "markdown",
   "id": "d475ceed",
   "metadata": {},
   "source": [
    "## 第二次分析:\n",
    "\n",
    "这种现象在实际数据分析中很常见，原因可能有：\n",
    "\n",
    "多重共线性（Multicollinearity）\n",
    "\n",
    "BMI 和其他变量（如身高、体重）高度相关\n",
    "在 OLS 中，如果自变量之间高度相关，系数估计会不稳定，p 值会变大\n",
    "可能 BMI 的信息已经被“身高+体重”解释掉了\n",
    "模型设定不当\n",
    "\n",
    "OLS 假设是线性关系，但 BMI 和因变量可能是非线性关系\n",
    "如果真实关系是曲线型，线性模型会低估它的显著性\n",
    "噪声和样本量\n",
    "\n",
    "样本量不足或噪声较大，也会导致 p 值偏大\n",
    "多重比较问题\n",
    "\n",
    "你有很多变量（>20 个），在多次显著性检验中，必然会有一些变量 p 值不显著，即使它们在实际中有影响\n"
   ]
  },
  {
   "cell_type": "markdown",
   "id": "f7fa8ccb",
   "metadata": {},
   "source": [
    "### 方差膨胀因子（VIF）:"
   ]
  },
  {
   "cell_type": "markdown",
   "id": "498511dd",
   "metadata": {},
   "source": [
    "去除部分"
   ]
  },
  {
   "cell_type": "code",
   "execution_count": 14,
   "id": "ae73f182",
   "metadata": {},
   "outputs": [
    {
     "name": "stdout",
     "output_type": "stream",
     "text": [
      "   feature       VIF\n",
      "0    const  6.174521\n",
      "5     怀孕次数  1.673696\n",
      "6     生产次数  1.657266\n",
      "2       年龄  1.072746\n",
      "4    IVF妊娠  1.046826\n",
      "3    孕妇BMI  1.026542\n",
      "1  检测孕周_周数  1.024480\n"
     ]
    }
   ],
   "source": [
    "from statsmodels.stats.outliers_influence import variance_inflation_factor\n",
    "\n",
    "# 1. 读取处理后的数据\n",
    "df = pd.read_csv('data_processed_std.csv')\n",
    "\n",
    "X = df[['检测孕周_周数','年龄','孕妇BMI','IVF妊娠','怀孕次数','生产次数']]  # 自变量\n",
    "X = sm.add_constant(X)\n",
    "vif_data = pd.DataFrame()\n",
    "vif_data[\"feature\"] = X.columns\n",
    "vif_data[\"VIF\"] = [variance_inflation_factor(X.values, i) for i in range(X.shape[1])]\n",
    "print(vif_data.sort_values(\"VIF\", ascending=False))"
   ]
  },
  {
   "cell_type": "markdown",
   "id": "66e07600",
   "metadata": {},
   "source": [
    "### LassoCV"
   ]
  },
  {
   "cell_type": "markdown",
   "id": "3cea7384",
   "metadata": {},
   "source": [
    "### 用 随机森林 计算特征重要性"
   ]
  },
  {
   "cell_type": "code",
   "execution_count": 15,
   "id": "02575238",
   "metadata": {},
   "outputs": [
    {
     "name": "stdout",
     "output_type": "stream",
     "text": [
      "孕妇BMI      0.410963\n",
      "检测孕周_周数    0.298389\n",
      "年龄         0.187981\n",
      "怀孕次数       0.054420\n",
      "生产次数       0.045237\n",
      "IVF妊娠      0.003011\n",
      "dtype: float64\n"
     ]
    }
   ],
   "source": [
    "from sklearn.ensemble import RandomForestRegressor\n",
    "rf = RandomForestRegressor()\n",
    "X = X.drop(['const'], axis=1)\n",
    "rf.fit(X, y)\n",
    "importance = pd.Series(rf.feature_importances_, index=X.columns)\n",
    "print(importance.sort_values(ascending=False))"
   ]
  }
 ],
 "metadata": {
  "kernelspec": {
   "display_name": ".venv",
   "language": "python",
   "name": "python3"
  },
  "language_info": {
   "codemirror_mode": {
    "name": "ipython",
    "version": 3
   },
   "file_extension": ".py",
   "mimetype": "text/x-python",
   "name": "python",
   "nbconvert_exporter": "python",
   "pygments_lexer": "ipython3",
   "version": "3.9.13"
  }
 },
 "nbformat": 4,
 "nbformat_minor": 5
}
