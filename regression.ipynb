{
 "cells": [
  {
   "cell_type": "markdown",
   "id": "40874d2e",
   "metadata": {},
   "source": [
    "## 1. 只考虑两种题目中给定的特征"
   ]
  },
  {
   "cell_type": "code",
   "execution_count": 2,
   "id": "ebf1b651",
   "metadata": {},
   "outputs": [
    {
     "name": "stdout",
     "output_type": "stream",
     "text": [
      "                            OLS Regression Results                            \n",
      "==============================================================================\n",
      "Dep. Variable:                 Y染色体浓度   R-squared:                       0.041\n",
      "Model:                            OLS   Adj. R-squared:                  0.038\n",
      "Method:                 Least Squares   F-statistic:                     18.45\n",
      "Date:                Fri, 05 Sep 2025   Prob (F-statistic):           1.42e-08\n",
      "Time:                        20:30:48   Log-Likelihood:                 1784.0\n",
      "No. Observations:                 877   AIC:                            -3562.\n",
      "Df Residuals:                     874   BIC:                            -3548.\n",
      "Df Model:                           2                                         \n",
      "Covariance Type:            nonrobust                                         \n",
      "==============================================================================\n",
      "                 coef    std err          t      P>|t|      [0.025      0.975]\n",
      "------------------------------------------------------------------------------\n",
      "const          0.0797      0.001     74.159      0.000       0.078       0.082\n",
      "检测孕周_周数        0.0040      0.001      3.412      0.001       0.002       0.006\n",
      "孕妇BMI         -0.0069      0.001     -5.380      0.000      -0.009      -0.004\n",
      "==============================================================================\n",
      "Omnibus:                       61.659   Durbin-Watson:                   0.857\n",
      "Prob(Omnibus):                  0.000   Jarque-Bera (JB):               81.319\n",
      "Skew:                           0.597   Prob(JB):                     2.20e-18\n",
      "Kurtosis:                       3.895   Cond. No.                         1.26\n",
      "==============================================================================\n",
      "\n",
      "Notes:\n",
      "[1] Standard Errors assume that the covariance matrix of the errors is correctly specified.\n",
      "\n",
      "显著性变量（p < 0.05）：\n",
      "['检测孕周_周数', '孕妇BMI']\n",
      "\n",
      "回归结果已保存到 regression_results_only2.csv\n"
     ]
    }
   ],
   "source": [
    "import pandas as pd\n",
    "import statsmodels.api as sm\n",
    "\n",
    "# 1. 读取处理后的数据\n",
    "df_raw = pd.read_csv('data_processed.csv')\n",
    "df = pd.read_csv('data_processed_std.csv')\n",
    "\n",
    "\n",
    "# 2. 设置因变量（目标变量）\n",
    "target_col = 'Y染色体浓度' \n",
    "\n",
    "# 3. 选择数值型自变量（排除目标列）\n",
    "numeric_cols = ['检测孕周_周数','孕妇BMI']\n",
    "\n",
    "# 4. 定义 X 和 y\n",
    "X = df[numeric_cols]\n",
    "y = df[target_col]\n",
    "\n",
    "# 5. 添加常数项（截距）\n",
    "X = sm.add_constant(X)\n",
    "\n",
    "# 6. 建立 OLS 回归模型\n",
    "model = sm.OLS(y, X).fit()\n",
    "\n",
    "# 7. 输出回归结果\n",
    "print(model.summary())\n",
    "\n",
    "\n",
    "# 8. 提取显著性变量（p < 0.05）\n",
    "p_values = model.pvalues\n",
    "significant_vars = p_values[p_values < 0.05].index.tolist()\n",
    "\n",
    "# 去掉常数项\n",
    "if 'const' in significant_vars:\n",
    "    significant_vars.remove('const')\n",
    "\n",
    "print(\"\\n显著性变量（p < 0.05）：\")\n",
    "print(significant_vars)\n",
    "\n",
    "# 9. 保存回归结果到文件\n",
    "summary_df = pd.DataFrame({\n",
    "    '变量': model.params.index,\n",
    "    '系数': model.params.values,\n",
    "    'p值': model.pvalues.values,\n",
    "    '显著性': ['显著' if p < 0.05 else '不显著' for p in model.pvalues.values]\n",
    "})\n",
    "summary_df.to_csv('regression_results_only2.csv', index=False, encoding='utf-8-sig')\n",
    "\n",
    "print(\"\\n回归结果已保存到 regression_results_only2.csv\")\n"
   ]
  },
  {
   "cell_type": "code",
   "execution_count": 5,
   "id": "91759020",
   "metadata": {},
   "outputs": [
    {
     "name": "stdout",
     "output_type": "stream",
     "text": [
      "               下限        上限\n",
      "const    0.076971  0.087352\n",
      "检测孕周_周数  0.001750  0.006394\n",
      "年龄      -0.005096 -0.000624\n",
      "孕妇BMI   -0.009589 -0.004569\n",
      "IVF妊娠   -0.019281  0.003154\n",
      "怀孕次数    -0.004950  0.001328\n",
      "生产次数    -0.002047  0.006229\n",
      "\n",
      "置信区间法显著变量（95% CI 不包含 0）：\n",
      "['检测孕周_周数', '年龄', '孕妇BMI']\n"
     ]
    }
   ],
   "source": [
    "# 获取 95% 置信区间\n",
    "conf_int_95 = model.conf_int(alpha=0.05)  # alpha=0.05 表示 95% 置信水平\n",
    "conf_int_95.columns = ['下限', '上限']\n",
    "print(conf_int_95)\n",
    "\n",
    "# 判断置信区间是否包含 0\n",
    "significant_ci_vars = conf_int_95[\n",
    "    (conf_int_95['下限'] > 0) | (conf_int_95['上限'] < 0)\n",
    "].index.tolist()\n",
    "# 去掉常数项\n",
    "if 'const' in significant_ci_vars:\n",
    "    significant_ci_vars.remove('const')\n",
    "print(\"\\n置信区间法显著变量（95% CI 不包含 0）：\")\n",
    "print(significant_ci_vars)"
   ]
  },
  {
   "cell_type": "markdown",
   "id": "ab7b73b3",
   "metadata": {},
   "source": [
    "## 2. 考虑多个可能的特征"
   ]
  },
  {
   "cell_type": "code",
   "execution_count": 1,
   "id": "24096e76",
   "metadata": {},
   "outputs": [
    {
     "name": "stdout",
     "output_type": "stream",
     "text": [
      "                            OLS Regression Results                            \n",
      "==============================================================================\n",
      "Dep. Variable:                 Y染色体浓度   R-squared:                       0.054\n",
      "Model:                            OLS   Adj. R-squared:                  0.047\n",
      "Method:                 Least Squares   F-statistic:                     8.214\n",
      "Date:                Fri, 05 Sep 2025   Prob (F-statistic):           1.15e-08\n",
      "Time:                        20:52:29   Log-Likelihood:                 1790.0\n",
      "No. Observations:                 877   AIC:                            -3566.\n",
      "Df Residuals:                     870   BIC:                            -3533.\n",
      "Df Model:                           6                                         \n",
      "Covariance Type:            nonrobust                                         \n",
      "==============================================================================\n",
      "                 coef    std err          t      P>|t|      [0.025      0.975]\n",
      "------------------------------------------------------------------------------\n",
      "const          0.0822      0.003     31.068      0.000       0.077       0.087\n",
      "检测孕周_周数        0.0041      0.001      3.442      0.001       0.002       0.006\n",
      "年龄            -0.0029      0.001     -2.510      0.012      -0.005      -0.001\n",
      "孕妇BMI         -0.0071      0.001     -5.535      0.000      -0.010      -0.005\n",
      "IVF妊娠         -0.0081      0.006     -1.411      0.159      -0.019       0.003\n",
      "怀孕次数          -0.0018      0.002     -1.132      0.258      -0.005       0.001\n",
      "生产次数           0.0021      0.002      0.992      0.322      -0.002       0.006\n",
      "==============================================================================\n",
      "Omnibus:                       57.658   Durbin-Watson:                   0.870\n",
      "Prob(Omnibus):                  0.000   Jarque-Bera (JB):               75.369\n",
      "Skew:                           0.571   Prob(JB):                     4.30e-17\n",
      "Kurtosis:                       3.871   Cond. No.                         11.9\n",
      "==============================================================================\n",
      "\n",
      "Notes:\n",
      "[1] Standard Errors assume that the covariance matrix of the errors is correctly specified.\n",
      "\n",
      "显著性变量（p < 0.05）：\n",
      "['检测孕周_周数', '年龄', '孕妇BMI']\n",
      "\n",
      "回归结果已保存到 regression_results.csv\n"
     ]
    }
   ],
   "source": [
    "import pandas as pd\n",
    "import statsmodels.api as sm\n",
    "\n",
    "# 1. 读取处理后的数据\n",
    "df_raw = pd.read_csv('data_processed.csv')\n",
    "df = pd.read_csv('data_processed_std.csv')\n",
    "\n",
    "\n",
    "# 2. 设置因变量（目标变量）\n",
    "target_col = 'Y染色体浓度'  # 你可以改成其他目标变量\n",
    "\n",
    "# 3. 选择数值型自变量（排除目标列）\n",
    "numeric_cols = ['检测孕周_周数','年龄','孕妇BMI','IVF妊娠','怀孕次数','生产次数']\n",
    "\n",
    "# 4. 定义 X 和 y\n",
    "X = df[numeric_cols]\n",
    "y = df[target_col]\n",
    "\n",
    "# 5. 添加常数项（截距）\n",
    "X = sm.add_constant(X)\n",
    "\n",
    "# 6. 建立 OLS 回归模型\n",
    "model = sm.OLS(y, X).fit()\n",
    "\n",
    "# 7. 输出回归结果\n",
    "print(model.summary())\n",
    "\n",
    "\n",
    "# 输出model的MAE等指标，由于是OLS模型，所以不适合计算MAE、MSE、RMSE\n",
    "\n",
    "\n",
    "# 8. 提取显著性变量（p < 0.05）\n",
    "p_values = model.pvalues\n",
    "significant_vars = p_values[p_values < 0.05].index.tolist()\n",
    "\n",
    "# 去掉常数项\n",
    "if 'const' in significant_vars:\n",
    "    significant_vars.remove('const')\n",
    "\n",
    "print(\"\\n显著性变量（p < 0.05）：\")\n",
    "print(significant_vars)\n",
    "\n",
    "# 9. 保存回归结果到文件\n",
    "summary_df = pd.DataFrame({\n",
    "    '变量': model.params.index,\n",
    "    '系数': model.params.values,\n",
    "    'p值': model.pvalues.values,\n",
    "    '显著性': ['显著' if p < 0.05 else '不显著' for p in model.pvalues.values]\n",
    "})\n",
    "summary_df.to_csv('regression_results.csv', index=False, encoding='utf-8-sig')\n",
    "\n",
    "print(\"\\n回归结果已保存到 regression_results.csv\")\n"
   ]
  },
  {
   "cell_type": "markdown",
   "id": "d475ceed",
   "metadata": {},
   "source": [
    "## 第二次分析:\n",
    "\n",
    "这种现象在实际数据分析中很常见，原因可能有：\n",
    "\n",
    "多重共线性（Multicollinearity）\n",
    "\n",
    "BMI 和其他变量（如身高、体重）高度相关\n",
    "在 OLS 中，如果自变量之间高度相关，系数估计会不稳定，p 值会变大\n",
    "可能 BMI 的信息已经被“身高+体重”解释掉了\n",
    "模型设定不当\n",
    "\n",
    "OLS 假设是线性关系，但 BMI 和因变量可能是非线性关系\n",
    "如果真实关系是曲线型，线性模型会低估它的显著性\n",
    "噪声和样本量\n",
    "\n",
    "样本量不足或噪声较大，也会导致 p 值偏大\n",
    "多重比较问题\n",
    "\n",
    "你有很多变量（>20 个），在多次显著性检验中，必然会有一些变量 p 值不显著，即使它们在实际中有影响\n"
   ]
  },
  {
   "cell_type": "markdown",
   "id": "f7fa8ccb",
   "metadata": {},
   "source": [
    "### 方差膨胀因子（VIF）:"
   ]
  },
  {
   "cell_type": "markdown",
   "id": "498511dd",
   "metadata": {},
   "source": [
    "去除部分"
   ]
  },
  {
   "cell_type": "code",
   "execution_count": 4,
   "id": "ae73f182",
   "metadata": {},
   "outputs": [
    {
     "name": "stdout",
     "output_type": "stream",
     "text": [
      "   feature       VIF\n",
      "0    const  6.159141\n",
      "5     怀孕次数  1.628078\n",
      "6     生产次数  1.608285\n",
      "2       年龄  1.054616\n",
      "4    IVF妊娠  1.034690\n",
      "1  检测孕周_周数  1.017961\n",
      "3    孕妇BMI  1.017189\n"
     ]
    }
   ],
   "source": [
    "from statsmodels.stats.outliers_influence import variance_inflation_factor\n",
    "\n",
    "# 1. 读取处理后的数据\n",
    "df = pd.read_csv('data_processed_std.csv')\n",
    "\n",
    "X = df[['检测孕周_周数','年龄','孕妇BMI','IVF妊娠','怀孕次数','生产次数']]  # 自变量\n",
    "X = sm.add_constant(X)\n",
    "vif_data = pd.DataFrame()\n",
    "vif_data[\"feature\"] = X.columns\n",
    "vif_data[\"VIF\"] = [variance_inflation_factor(X.values, i) for i in range(X.shape[1])]\n",
    "print(vif_data.sort_values(\"VIF\", ascending=False))"
   ]
  },
  {
   "cell_type": "markdown",
   "id": "66e07600",
   "metadata": {},
   "source": [
    "### LassoCV"
   ]
  },
  {
   "cell_type": "markdown",
   "id": "3cea7384",
   "metadata": {},
   "source": [
    "### 用 随机森林 计算特征重要性"
   ]
  },
  {
   "cell_type": "code",
   "execution_count": 5,
   "id": "02575238",
   "metadata": {},
   "outputs": [
    {
     "name": "stdout",
     "output_type": "stream",
     "text": [
      "孕妇BMI      0.425436\n",
      "检测孕周_周数    0.268134\n",
      "年龄         0.188636\n",
      "怀孕次数       0.063470\n",
      "生产次数       0.050661\n",
      "IVF妊娠      0.003665\n",
      "dtype: float64\n"
     ]
    }
   ],
   "source": [
    "from sklearn.ensemble import RandomForestRegressor\n",
    "rf = RandomForestRegressor()\n",
    "X = X.drop(['const'], axis=1)\n",
    "rf.fit(X, y)\n",
    "importance = pd.Series(rf.feature_importances_, index=X.columns)\n",
    "print(importance.sort_values(ascending=False))"
   ]
  }
 ],
 "metadata": {
  "kernelspec": {
   "display_name": ".venv",
   "language": "python",
   "name": "python3"
  },
  "language_info": {
   "codemirror_mode": {
    "name": "ipython",
    "version": 3
   },
   "file_extension": ".py",
   "mimetype": "text/x-python",
   "name": "python",
   "nbconvert_exporter": "python",
   "pygments_lexer": "ipython3",
   "version": "3.9.13"
  }
 },
 "nbformat": 4,
 "nbformat_minor": 5
}
