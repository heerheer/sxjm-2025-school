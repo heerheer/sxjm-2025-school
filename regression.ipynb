{
 "cells": [
  {
   "cell_type": "code",
   "execution_count": null,
   "id": "24096e76",
   "metadata": {},
   "outputs": [],
   "source": [
    "import pandas as pd\n",
    "import statsmodels.api as sm\n",
    "\n",
    "# 1. 读取处理后的数据\n",
    "df = pd.read_csv('data_processed.csv')\n",
    "\n",
    "# 2. 设置因变量（目标变量）\n",
    "target_col = 'Y染色体浓度'  # 你可以改成其他目标变量\n",
    "\n",
    "# 3. 选择数值型自变量（排除目标列）\n",
    "numeric_cols = df.select_dtypes(include=['float64', 'int64']).columns.tolist()\n",
    "if target_col in numeric_cols:\n",
    "    numeric_cols.remove(target_col)\n",
    "\n",
    "# 4. 定义 X 和 y\n",
    "X = df[numeric_cols]\n",
    "y = df[target_col]\n",
    "\n",
    "# 5. 添加常数项（截距）\n",
    "X = sm.add_constant(X)\n",
    "\n",
    "# 6. 建立 OLS 回归模型\n",
    "model = sm.OLS(y, X).fit()\n",
    "\n",
    "# 7. 输出回归结果\n",
    "print(model.summary())\n",
    "\n",
    "# 8. 提取显著性变量（p < 0.05）\n",
    "p_values = model.pvalues\n",
    "significant_vars = p_values[p_values < 0.05].index.tolist()\n",
    "\n",
    "# 去掉常数项\n",
    "if 'const' in significant_vars:\n",
    "    significant_vars.remove('const')\n",
    "\n",
    "print(\"\\n显著性变量（p < 0.05）：\")\n",
    "print(significant_vars)\n",
    "\n",
    "# 9. 保存回归结果到文件\n",
    "summary_df = pd.DataFrame({\n",
    "    '变量': model.params.index,\n",
    "    '系数': model.params.values,\n",
    "    'p值': model.pvalues.values,\n",
    "    '显著性': ['显著' if p < 0.05 else '不显著' for p in model.pvalues.values]\n",
    "})\n",
    "summary_df.to_csv('regression_results.csv', index=False, encoding='utf-8-sig')\n",
    "\n",
    "print(\"\\n回归结果已保存到 regression_results.csv\")\n"
   ]
  }
 ],
 "metadata": {
  "language_info": {
   "name": "python"
  }
 },
 "nbformat": 4,
 "nbformat_minor": 5
}
